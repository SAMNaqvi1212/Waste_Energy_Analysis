{
 "cells": [
  {
   "cell_type": "markdown",
   "id": "20d2de55",
   "metadata": {},
   "source": [
    "# DATA INTEGRATION\n"
   ]
  },
  {
   "cell_type": "markdown",
   "id": "d7ce1031",
   "metadata": {},
   "source": [
    "## 1) DATA EXTRACTION\n",
    "This step involves the data extracted from various sources such as databases important sites that had data for the waste generation and management from Germany. Subsequently two datasets were found out that were deemed to be suitable and these datasets were then explored and integrated into one common dataset for further processes."
   ]
  },
  {
   "cell_type": "code",
   "execution_count": 1,
   "id": "c03a7553",
   "metadata": {},
   "outputs": [],
   "source": [
    "import numpy as np \n",
    "import pandas as pd\n",
    "import matplotlib.pyplot as plt\n",
    "%matplotlib inline\n",
    "import seaborn as sns"
   ]
  },
  {
   "cell_type": "code",
   "execution_count": 2,
   "id": "f5e140d7",
   "metadata": {},
   "outputs": [],
   "source": [
    "df = pd.read_excel(\"Final_worksheet.xlsx\")"
   ]
  },
  {
   "cell_type": "code",
   "execution_count": 3,
   "id": "ea24073c",
   "metadata": {},
   "outputs": [
    {
     "data": {
      "text/html": [
       "<div>\n",
       "<style scoped>\n",
       "    .dataframe tbody tr th:only-of-type {\n",
       "        vertical-align: middle;\n",
       "    }\n",
       "\n",
       "    .dataframe tbody tr th {\n",
       "        vertical-align: top;\n",
       "    }\n",
       "\n",
       "    .dataframe thead th {\n",
       "        text-align: right;\n",
       "    }\n",
       "</style>\n",
       "<table border=\"1\" class=\"dataframe\">\n",
       "  <thead>\n",
       "    <tr style=\"text-align: right;\">\n",
       "      <th></th>\n",
       "      <th>Id</th>\n",
       "      <th>Year\\nLänder\\nType of plant</th>\n",
       "      <th>Input_to_waste_treatment_plants</th>\n",
       "      <th>waste_generated_in_local_unit</th>\n",
       "      <th>Waste_delivered_from_domestic_territory</th>\n",
       "      <th>Wastes_delivered_from_abroad</th>\n",
       "      <th>Output_ratio_of_waste_Treatment_plants</th>\n",
       "      <th>Output_of_waste_treatment_plants</th>\n",
       "      <th>Disposed_of_waste</th>\n",
       "      <th>Wastes_to_be_recoverd</th>\n",
       "      <th>Waste_to_preparatory_process</th>\n",
       "      <th>Distribution_to_other_plants_users_or_traders</th>\n",
       "      <th>Waste_quantities_generated_by_primary_producers/1000tons</th>\n",
       "      <th>Year</th>\n",
       "      <th>State</th>\n",
       "    </tr>\n",
       "  </thead>\n",
       "  <tbody>\n",
       "    <tr>\n",
       "      <th>0</th>\n",
       "      <td>EA-01</td>\n",
       "      <td>Landfills</td>\n",
       "      <td>5629.8</td>\n",
       "      <td>132.3</td>\n",
       "      <td>5436.4</td>\n",
       "      <td>61.1</td>\n",
       "      <td>NaN</td>\n",
       "      <td>590.0</td>\n",
       "      <td>45.0</td>\n",
       "      <td>380.0</td>\n",
       "      <td>NaN</td>\n",
       "      <td>185.0</td>\n",
       "      <td>NaN</td>\n",
       "      <td>2017</td>\n",
       "      <td>Baden-Württemberg</td>\n",
       "    </tr>\n",
       "    <tr>\n",
       "      <th>1</th>\n",
       "      <td>EA-02</td>\n",
       "      <td>Thermal waste treatment plants</td>\n",
       "      <td>1856.4</td>\n",
       "      <td>39.3</td>\n",
       "      <td>1785.6</td>\n",
       "      <td>31.5</td>\n",
       "      <td>NaN</td>\n",
       "      <td>498.1</td>\n",
       "      <td>17.1</td>\n",
       "      <td>477.2</td>\n",
       "      <td>NaN</td>\n",
       "      <td>3.7</td>\n",
       "      <td>0.9</td>\n",
       "      <td>2017</td>\n",
       "      <td>Baden-Württemberg</td>\n",
       "    </tr>\n",
       "    <tr>\n",
       "      <th>2</th>\n",
       "      <td>EA-03</td>\n",
       "      <td>Combustion plants</td>\n",
       "      <td>2411.2</td>\n",
       "      <td>417.2</td>\n",
       "      <td>1977.0</td>\n",
       "      <td>17.0</td>\n",
       "      <td>NaN</td>\n",
       "      <td>177.7</td>\n",
       "      <td>81.6</td>\n",
       "      <td>95.8</td>\n",
       "      <td>NaN</td>\n",
       "      <td>0.3</td>\n",
       "      <td>0.9</td>\n",
       "      <td>2017</td>\n",
       "      <td>Baden-Württemberg</td>\n",
       "    </tr>\n",
       "    <tr>\n",
       "      <th>3</th>\n",
       "      <td>EA-04</td>\n",
       "      <td>Chemical-physical treatment plants</td>\n",
       "      <td>1100.0</td>\n",
       "      <td>155.0</td>\n",
       "      <td>355.0</td>\n",
       "      <td>35.0</td>\n",
       "      <td>NaN</td>\n",
       "      <td>590.0</td>\n",
       "      <td>45.0</td>\n",
       "      <td>380.0</td>\n",
       "      <td>NaN</td>\n",
       "      <td>185.0</td>\n",
       "      <td>0.9</td>\n",
       "      <td>2017</td>\n",
       "      <td>Baden-Württemberg</td>\n",
       "    </tr>\n",
       "    <tr>\n",
       "      <th>4</th>\n",
       "      <td>EA-05</td>\n",
       "      <td>Soil treatment plants</td>\n",
       "      <td>NaN</td>\n",
       "      <td>156.0</td>\n",
       "      <td>NaN</td>\n",
       "      <td>NaN</td>\n",
       "      <td>NaN</td>\n",
       "      <td>NaN</td>\n",
       "      <td>45.0</td>\n",
       "      <td>386.0</td>\n",
       "      <td>NaN</td>\n",
       "      <td>180.0</td>\n",
       "      <td>0.9</td>\n",
       "      <td>2017</td>\n",
       "      <td>Baden-Württemberg</td>\n",
       "    </tr>\n",
       "  </tbody>\n",
       "</table>\n",
       "</div>"
      ],
      "text/plain": [
       "      Id         Year\\nLänder\\nType of plant  Input_to_waste_treatment_plants  \\\n",
       "0  EA-01                           Landfills                           5629.8   \n",
       "1  EA-02      Thermal waste treatment plants                           1856.4   \n",
       "2  EA-03                   Combustion plants                           2411.2   \n",
       "3  EA-04  Chemical-physical treatment plants                           1100.0   \n",
       "4  EA-05               Soil treatment plants                              NaN   \n",
       "\n",
       "   waste_generated_in_local_unit  Waste_delivered_from_domestic_territory  \\\n",
       "0                          132.3                                   5436.4   \n",
       "1                           39.3                                   1785.6   \n",
       "2                          417.2                                   1977.0   \n",
       "3                          155.0                                    355.0   \n",
       "4                          156.0                                      NaN   \n",
       "\n",
       "   Wastes_delivered_from_abroad  Output_ratio_of_waste_Treatment_plants  \\\n",
       "0                          61.1                                     NaN   \n",
       "1                          31.5                                     NaN   \n",
       "2                          17.0                                     NaN   \n",
       "3                          35.0                                     NaN   \n",
       "4                           NaN                                     NaN   \n",
       "\n",
       "   Output_of_waste_treatment_plants  Disposed_of_waste  Wastes_to_be_recoverd  \\\n",
       "0                             590.0               45.0                  380.0   \n",
       "1                             498.1               17.1                  477.2   \n",
       "2                             177.7               81.6                   95.8   \n",
       "3                             590.0               45.0                  380.0   \n",
       "4                               NaN               45.0                  386.0   \n",
       "\n",
       "   Waste_to_preparatory_process  \\\n",
       "0                           NaN   \n",
       "1                           NaN   \n",
       "2                           NaN   \n",
       "3                           NaN   \n",
       "4                           NaN   \n",
       "\n",
       "   Distribution_to_other_plants_users_or_traders  \\\n",
       "0                                          185.0   \n",
       "1                                            3.7   \n",
       "2                                            0.3   \n",
       "3                                          185.0   \n",
       "4                                          180.0   \n",
       "\n",
       "   Waste_quantities_generated_by_primary_producers/1000tons  Year  \\\n",
       "0                                                NaN         2017   \n",
       "1                                                0.9         2017   \n",
       "2                                                0.9         2017   \n",
       "3                                                0.9         2017   \n",
       "4                                                0.9         2017   \n",
       "\n",
       "               State  \n",
       "0  Baden-Württemberg  \n",
       "1  Baden-Württemberg  \n",
       "2  Baden-Württemberg  \n",
       "3  Baden-Württemberg  \n",
       "4  Baden-Württemberg  "
      ]
     },
     "execution_count": 3,
     "metadata": {},
     "output_type": "execute_result"
    }
   ],
   "source": [
    "df.head(5)"
   ]
  },
  {
   "cell_type": "code",
   "execution_count": 4,
   "id": "60a7dced",
   "metadata": {},
   "outputs": [],
   "source": [
    "df= df.rename(columns = {\"Year\\nLänder\\nType of plant\":\"Type_of_plant\"})"
   ]
  },
  {
   "cell_type": "code",
   "execution_count": 5,
   "id": "b1b3f9ba",
   "metadata": {},
   "outputs": [
    {
     "data": {
      "text/plain": [
       "Id                                                            0\n",
       "Type_of_plant                                                 0\n",
       "Input_to_waste_treatment_plants                              81\n",
       "waste_generated_in_local_unit                                80\n",
       "Waste_delivered_from_domestic_territory                      96\n",
       "Wastes_delivered_from_abroad                                101\n",
       "Output_ratio_of_waste_Treatment_plants                      960\n",
       "Output_of_waste_treatment_plants                             82\n",
       "Disposed_of_waste                                           111\n",
       "Wastes_to_be_recoverd                                       140\n",
       "Waste_to_preparatory_process                                839\n",
       "Distribution_to_other_plants_users_or_traders               156\n",
       "Waste_quantities_generated_by_primary_producers/1000tons    226\n",
       "Year                                                          0\n",
       "State                                                         0\n",
       "dtype: int64"
      ]
     },
     "execution_count": 5,
     "metadata": {},
     "output_type": "execute_result"
    }
   ],
   "source": [
    "df.isnull().sum()"
   ]
  },
  {
   "cell_type": "code",
   "execution_count": 6,
   "id": "274559c5",
   "metadata": {},
   "outputs": [
    {
     "data": {
      "text/plain": [
       "Id                                                            0\n",
       "Type_of_plant                                                 0\n",
       "Input_to_waste_treatment_plants                              81\n",
       "waste_generated_in_local_unit                                80\n",
       "Waste_delivered_from_domestic_territory                      96\n",
       "Wastes_delivered_from_abroad                                101\n",
       "Output_ratio_of_waste_Treatment_plants                      960\n",
       "Output_of_waste_treatment_plants                             82\n",
       "Disposed_of_waste                                           111\n",
       "Wastes_to_be_recoverd                                       140\n",
       "Waste_to_preparatory_process                                839\n",
       "Distribution_to_other_plants_users_or_traders               156\n",
       "Waste_quantities_generated_by_primary_producers/1000tons    226\n",
       "Year                                                          0\n",
       "State                                                         0\n",
       "dtype: int64"
      ]
     },
     "execution_count": 6,
     "metadata": {},
     "output_type": "execute_result"
    }
   ],
   "source": [
    "df.isnull().sum()"
   ]
  },
  {
   "cell_type": "code",
   "execution_count": 7,
   "id": "b276e59f",
   "metadata": {},
   "outputs": [
    {
     "name": "stdout",
     "output_type": "stream",
     "text": [
      "<class 'pandas.core.frame.DataFrame'>\n",
      "RangeIndex: 960 entries, 0 to 959\n",
      "Data columns (total 15 columns):\n",
      " #   Column                                                    Non-Null Count  Dtype  \n",
      "---  ------                                                    --------------  -----  \n",
      " 0   Id                                                        960 non-null    object \n",
      " 1   Type_of_plant                                             960 non-null    object \n",
      " 2   Input_to_waste_treatment_plants                           879 non-null    float64\n",
      " 3   waste_generated_in_local_unit                             880 non-null    float64\n",
      " 4   Waste_delivered_from_domestic_territory                   864 non-null    float64\n",
      " 5   Wastes_delivered_from_abroad                              859 non-null    float64\n",
      " 6   Output_ratio_of_waste_Treatment_plants                    0 non-null      float64\n",
      " 7   Output_of_waste_treatment_plants                          878 non-null    float64\n",
      " 8   Disposed_of_waste                                         849 non-null    float64\n",
      " 9   Wastes_to_be_recoverd                                     820 non-null    float64\n",
      " 10  Waste_to_preparatory_process                              121 non-null    float64\n",
      " 11  Distribution_to_other_plants_users_or_traders             804 non-null    float64\n",
      " 12  Waste_quantities_generated_by_primary_producers/1000tons  734 non-null    float64\n",
      " 13  Year                                                      960 non-null    int64  \n",
      " 14  State                                                     960 non-null    object \n",
      "dtypes: float64(11), int64(1), object(3)\n",
      "memory usage: 112.6+ KB\n"
     ]
    }
   ],
   "source": [
    "df.info()"
   ]
  },
  {
   "cell_type": "code",
   "execution_count": null,
   "id": "b1ba9bf2",
   "metadata": {},
   "outputs": [],
   "source": []
  },
  {
   "cell_type": "code",
   "execution_count": 8,
   "id": "ba6f7925",
   "metadata": {},
   "outputs": [
    {
     "name": "stdout",
     "output_type": "stream",
     "text": [
      "<class 'pandas.core.frame.DataFrame'>\n",
      "RangeIndex: 960 entries, 0 to 959\n",
      "Data columns (total 15 columns):\n",
      " #   Column                                                    Non-Null Count  Dtype  \n",
      "---  ------                                                    --------------  -----  \n",
      " 0   Id                                                        960 non-null    object \n",
      " 1   Type_of_plant                                             960 non-null    object \n",
      " 2   Input_to_waste_treatment_plants                           879 non-null    float64\n",
      " 3   waste_generated_in_local_unit                             880 non-null    float64\n",
      " 4   Waste_delivered_from_domestic_territory                   864 non-null    float64\n",
      " 5   Wastes_delivered_from_abroad                              859 non-null    float64\n",
      " 6   Output_ratio_of_waste_Treatment_plants                    0 non-null      float64\n",
      " 7   Output_of_waste_treatment_plants                          878 non-null    float64\n",
      " 8   Disposed_of_waste                                         849 non-null    float64\n",
      " 9   Wastes_to_be_recoverd                                     820 non-null    float64\n",
      " 10  Waste_to_preparatory_process                              121 non-null    float64\n",
      " 11  Distribution_to_other_plants_users_or_traders             804 non-null    float64\n",
      " 12  Waste_quantities_generated_by_primary_producers/1000tons  734 non-null    float64\n",
      " 13  Year                                                      960 non-null    int64  \n",
      " 14  State                                                     960 non-null    object \n",
      "dtypes: float64(11), int64(1), object(3)\n",
      "memory usage: 112.6+ KB\n"
     ]
    }
   ],
   "source": [
    "df.info()"
   ]
  },
  {
   "cell_type": "code",
   "execution_count": 9,
   "id": "6a7118f4",
   "metadata": {},
   "outputs": [
    {
     "data": {
      "text/plain": [
       "Id                                                            0\n",
       "Type_of_plant                                                 0\n",
       "Input_to_waste_treatment_plants                              81\n",
       "waste_generated_in_local_unit                                80\n",
       "Waste_delivered_from_domestic_territory                      96\n",
       "Wastes_delivered_from_abroad                                101\n",
       "Output_ratio_of_waste_Treatment_plants                      960\n",
       "Output_of_waste_treatment_plants                             82\n",
       "Disposed_of_waste                                           111\n",
       "Wastes_to_be_recoverd                                       140\n",
       "Waste_to_preparatory_process                                839\n",
       "Distribution_to_other_plants_users_or_traders               156\n",
       "Waste_quantities_generated_by_primary_producers/1000tons    226\n",
       "Year                                                          0\n",
       "State                                                         0\n",
       "dtype: int64"
      ]
     },
     "execution_count": 9,
     "metadata": {},
     "output_type": "execute_result"
    }
   ],
   "source": [
    "df.isnull().sum()"
   ]
  },
  {
   "cell_type": "code",
   "execution_count": 10,
   "id": "6d454ee9",
   "metadata": {},
   "outputs": [],
   "source": [
    "#importing the waste categories....\n",
    "waste_categories = pd.read_excel(\"Waste_type_categories.xlsx\",header=0)"
   ]
  },
  {
   "cell_type": "code",
   "execution_count": 11,
   "id": "6cadd6bc",
   "metadata": {},
   "outputs": [
    {
     "data": {
      "text/html": [
       "<div>\n",
       "<style scoped>\n",
       "    .dataframe tbody tr th:only-of-type {\n",
       "        vertical-align: middle;\n",
       "    }\n",
       "\n",
       "    .dataframe tbody tr th {\n",
       "        vertical-align: top;\n",
       "    }\n",
       "\n",
       "    .dataframe thead th {\n",
       "        text-align: right;\n",
       "    }\n",
       "</style>\n",
       "<table border=\"1\" class=\"dataframe\">\n",
       "  <thead>\n",
       "    <tr style=\"text-align: right;\">\n",
       "      <th></th>\n",
       "      <th>Unnamed: 0</th>\n",
       "      <th>ID</th>\n",
       "      <th>Categories</th>\n",
       "      <th>Waste Type</th>\n",
       "      <th>Waste producers(No.)</th>\n",
       "      <th>Waste quantities per 1000 tons</th>\n",
       "      <th>Waste quantities generated by primary producers per 1000 tons</th>\n",
       "      <th>Year</th>\n",
       "      <th>Wastes generated in the own local unit 1000 t</th>\n",
       "    </tr>\n",
       "  </thead>\n",
       "  <tbody>\n",
       "    <tr>\n",
       "      <th>0</th>\n",
       "      <td>0</td>\n",
       "      <td>EA-01</td>\n",
       "      <td>Manufacture of food products, beverages, tobacco</td>\n",
       "      <td>Wastes resulting from expl., mining of minerals</td>\n",
       "      <td>27.0</td>\n",
       "      <td>0.7</td>\n",
       "      <td>0.9</td>\n",
       "      <td>2017</td>\n",
       "      <td>27.0</td>\n",
       "    </tr>\n",
       "    <tr>\n",
       "      <th>1</th>\n",
       "      <td>1</td>\n",
       "      <td>EA-02</td>\n",
       "      <td>Manufacture of food products, beverages, tobacco</td>\n",
       "      <td>Wastes from agriculture,horticulture,forestry ...</td>\n",
       "      <td>27.0</td>\n",
       "      <td>0.7</td>\n",
       "      <td>0.9</td>\n",
       "      <td>2017</td>\n",
       "      <td>26619.5</td>\n",
       "    </tr>\n",
       "    <tr>\n",
       "      <th>2</th>\n",
       "      <td>2</td>\n",
       "      <td>EA-03</td>\n",
       "      <td>Manufacture of food products, beverages, tobacco</td>\n",
       "      <td>Wastes from wood processing etc.</td>\n",
       "      <td>27.0</td>\n",
       "      <td>0.7</td>\n",
       "      <td>0.9</td>\n",
       "      <td>2017</td>\n",
       "      <td>3.6</td>\n",
       "    </tr>\n",
       "    <tr>\n",
       "      <th>3</th>\n",
       "      <td>3</td>\n",
       "      <td>EA-04</td>\n",
       "      <td>Manufacture of food products, beverages, tobacco</td>\n",
       "      <td>Wastes from the leather, fur, textile industries</td>\n",
       "      <td>27.0</td>\n",
       "      <td>0.7</td>\n",
       "      <td>0.9</td>\n",
       "      <td>2017</td>\n",
       "      <td>0.0</td>\n",
       "    </tr>\n",
       "    <tr>\n",
       "      <th>4</th>\n",
       "      <td>4</td>\n",
       "      <td>EA-05</td>\n",
       "      <td>Manufacture of food products, beverages, tobacco</td>\n",
       "      <td>Wastes from petrol. refining, natural gas puri...</td>\n",
       "      <td>27.0</td>\n",
       "      <td>0.7</td>\n",
       "      <td>0.9</td>\n",
       "      <td>2017</td>\n",
       "      <td>835.2</td>\n",
       "    </tr>\n",
       "  </tbody>\n",
       "</table>\n",
       "</div>"
      ],
      "text/plain": [
       "   Unnamed: 0     ID                                        Categories  \\\n",
       "0           0  EA-01  Manufacture of food products, beverages, tobacco   \n",
       "1           1  EA-02  Manufacture of food products, beverages, tobacco   \n",
       "2           2  EA-03  Manufacture of food products, beverages, tobacco   \n",
       "3           3  EA-04  Manufacture of food products, beverages, tobacco   \n",
       "4           4  EA-05  Manufacture of food products, beverages, tobacco   \n",
       "\n",
       "                                          Waste Type  Waste producers(No.)  \\\n",
       "0    Wastes resulting from expl., mining of minerals                  27.0   \n",
       "1  Wastes from agriculture,horticulture,forestry ...                  27.0   \n",
       "2                   Wastes from wood processing etc.                  27.0   \n",
       "3   Wastes from the leather, fur, textile industries                  27.0   \n",
       "4  Wastes from petrol. refining, natural gas puri...                  27.0   \n",
       "\n",
       "   Waste quantities per 1000 tons  \\\n",
       "0                             0.7   \n",
       "1                             0.7   \n",
       "2                             0.7   \n",
       "3                             0.7   \n",
       "4                             0.7   \n",
       "\n",
       "   Waste quantities generated by primary producers per 1000 tons  Year  \\\n",
       "0                                                0.9              2017   \n",
       "1                                                0.9              2017   \n",
       "2                                                0.9              2017   \n",
       "3                                                0.9              2017   \n",
       "4                                                0.9              2017   \n",
       "\n",
       "   Wastes generated in the own local unit 1000 t  \n",
       "0                                           27.0  \n",
       "1                                        26619.5  \n",
       "2                                            3.6  \n",
       "3                                            0.0  \n",
       "4                                          835.2  "
      ]
     },
     "execution_count": 11,
     "metadata": {},
     "output_type": "execute_result"
    }
   ],
   "source": [
    "waste_categories.head(5)"
   ]
  },
  {
   "cell_type": "code",
   "execution_count": 12,
   "id": "ff17deda",
   "metadata": {},
   "outputs": [
    {
     "data": {
      "text/plain": [
       "Unnamed: 0                                                       0\n",
       "ID                                                               0\n",
       "Categories                                                       0\n",
       "Waste Type                                                       0\n",
       "Waste producers(No.)                                             0\n",
       "Waste quantities per 1000 tons                                   0\n",
       "Waste quantities generated by primary producers per 1000 tons    0\n",
       "Year                                                             0\n",
       "Wastes generated in the own local unit 1000 t                    0\n",
       "dtype: int64"
      ]
     },
     "execution_count": 12,
     "metadata": {},
     "output_type": "execute_result"
    }
   ],
   "source": [
    "waste_categories.isnull().sum()"
   ]
  },
  {
   "cell_type": "code",
   "execution_count": 13,
   "id": "ef2ebed1",
   "metadata": {},
   "outputs": [],
   "source": [
    "#waste_categories[\"Waste quantities per 1000 tons\"].fillna(waste_categories[\"Waste quantities per 1000 tons\"].mean(),inplace=True)"
   ]
  },
  {
   "cell_type": "code",
   "execution_count": 14,
   "id": "d1d3f163",
   "metadata": {},
   "outputs": [],
   "source": [
    "#waste_categories[\"Waste quantities generated by primary producers per 1000 tons\"].fillna(waste_categories[\"Waste quantities generated by primary producers per 1000 tons\"].mean(),inplace=True)"
   ]
  },
  {
   "cell_type": "code",
   "execution_count": 15,
   "id": "2ff65994",
   "metadata": {},
   "outputs": [],
   "source": [
    "#waste_categories[\"Waste producers(No.)\"].fillna(waste_categories[\"Waste producers(No.)\"].mean(),inplace=True)"
   ]
  },
  {
   "cell_type": "code",
   "execution_count": 16,
   "id": "fc937f0d",
   "metadata": {},
   "outputs": [],
   "source": [
    "#waste_categories[\"Wastes generated in the own local unit 1000 t\"].fillna(waste_categories[\"Wastes generated in the own local unit 1000 t\"].mean(),inplace=True)"
   ]
  },
  {
   "cell_type": "code",
   "execution_count": 17,
   "id": "b2b130a6",
   "metadata": {},
   "outputs": [],
   "source": [
    "#waste_categories.to_excel(\"Waste_type_categories.xlsx\")"
   ]
  },
  {
   "cell_type": "markdown",
   "id": "c736bc05",
   "metadata": {},
   "source": [
    "# DATA TRANSFORMATION\n",
    "This step involves transforming data that involves cleaning and preprocessing data into a useful format for suitable analysis and usage. This will include dealing with null-values, cleaning the data and then merging different datasets into a useful single dataset that can be used for data analysis. "
   ]
  },
  {
   "cell_type": "code",
   "execution_count": 18,
   "id": "a31eb818",
   "metadata": {},
   "outputs": [
    {
     "name": "stdout",
     "output_type": "stream",
     "text": [
      "<class 'pandas.core.frame.DataFrame'>\n",
      "RangeIndex: 784 entries, 0 to 783\n",
      "Data columns (total 9 columns):\n",
      " #   Column                                                         Non-Null Count  Dtype  \n",
      "---  ------                                                         --------------  -----  \n",
      " 0   Unnamed: 0                                                     784 non-null    int64  \n",
      " 1   ID                                                             784 non-null    object \n",
      " 2   Categories                                                     784 non-null    object \n",
      " 3   Waste Type                                                     784 non-null    object \n",
      " 4   Waste producers(No.)                                           784 non-null    float64\n",
      " 5   Waste quantities per 1000 tons                                 784 non-null    float64\n",
      " 6   Waste quantities generated by primary producers per 1000 tons  784 non-null    float64\n",
      " 7   Year                                                           784 non-null    int64  \n",
      " 8   Wastes generated in the own local unit 1000 t                  784 non-null    float64\n",
      "dtypes: float64(4), int64(2), object(3)\n",
      "memory usage: 55.2+ KB\n"
     ]
    }
   ],
   "source": [
    "# Analysing the waste_categories dataset. This dataset 784 entries. and some of its columns have reasonable\n",
    "## null values. \n",
    "waste_categories.info()"
   ]
  },
  {
   "cell_type": "code",
   "execution_count": 19,
   "id": "6daae251",
   "metadata": {},
   "outputs": [],
   "source": [
    "### We will start by deleting those rows that even have atleast one null value.\n",
    "## The idea is to deal with as much as real-world dataset. \n",
    "waste_categories.dropna(axis=0,inplace=True)"
   ]
  },
  {
   "cell_type": "code",
   "execution_count": 20,
   "id": "474d6c1a",
   "metadata": {},
   "outputs": [
    {
     "data": {
      "text/plain": [
       "array(['Wastes resulting from expl., mining of minerals',\n",
       "       'Wastes from agriculture,horticulture,forestry etc.',\n",
       "       'Wastes from wood processing etc.',\n",
       "       'Wastes from the leather, fur, textile industries',\n",
       "       'Wastes from petrol. refining, natural gas purific.',\n",
       "       'Wastes from inorganic chemical processes',\n",
       "       'Wastes from organic chemical processes',\n",
       "       'Wastes from the MFSU of coatings, adhesives etc.',\n",
       "       'Wastes from the photographic industry',\n",
       "       'Wastes from surface treatment of metals a.plastics',\n",
       "       'Waste organic solvents, refrigerants, propellants',\n",
       "       'Wastes from human or animal health care',\n",
       "       'Wastes from waste management facilities etc.',\n",
       "       'Municipal wastes (household waste, similar wastes)'], dtype=object)"
      ]
     },
     "execution_count": 20,
     "metadata": {},
     "output_type": "execute_result"
    }
   ],
   "source": [
    "###Finding out the unique values of types of wastes in waste-type dataset\n",
    "waste_categories[\"Waste Type\"].unique()"
   ]
  },
  {
   "cell_type": "code",
   "execution_count": 21,
   "id": "704e222d",
   "metadata": {},
   "outputs": [
    {
     "data": {
      "text/html": [
       "<div>\n",
       "<style scoped>\n",
       "    .dataframe tbody tr th:only-of-type {\n",
       "        vertical-align: middle;\n",
       "    }\n",
       "\n",
       "    .dataframe tbody tr th {\n",
       "        vertical-align: top;\n",
       "    }\n",
       "\n",
       "    .dataframe thead th {\n",
       "        text-align: right;\n",
       "    }\n",
       "</style>\n",
       "<table border=\"1\" class=\"dataframe\">\n",
       "  <thead>\n",
       "    <tr style=\"text-align: right;\">\n",
       "      <th></th>\n",
       "      <th>Id</th>\n",
       "      <th>Type_of_plant</th>\n",
       "      <th>Input_to_waste_treatment_plants</th>\n",
       "      <th>waste_generated_in_local_unit</th>\n",
       "      <th>Waste_delivered_from_domestic_territory</th>\n",
       "      <th>Wastes_delivered_from_abroad</th>\n",
       "      <th>Output_ratio_of_waste_Treatment_plants</th>\n",
       "      <th>Output_of_waste_treatment_plants</th>\n",
       "      <th>Disposed_of_waste</th>\n",
       "      <th>Wastes_to_be_recoverd</th>\n",
       "      <th>Waste_to_preparatory_process</th>\n",
       "      <th>Distribution_to_other_plants_users_or_traders</th>\n",
       "      <th>Waste_quantities_generated_by_primary_producers/1000tons</th>\n",
       "      <th>Year</th>\n",
       "      <th>State</th>\n",
       "    </tr>\n",
       "  </thead>\n",
       "  <tbody>\n",
       "    <tr>\n",
       "      <th>0</th>\n",
       "      <td>EA-01</td>\n",
       "      <td>Landfills</td>\n",
       "      <td>5629.8</td>\n",
       "      <td>132.3</td>\n",
       "      <td>5436.4</td>\n",
       "      <td>61.1</td>\n",
       "      <td>NaN</td>\n",
       "      <td>590.0</td>\n",
       "      <td>45.0</td>\n",
       "      <td>380.0</td>\n",
       "      <td>NaN</td>\n",
       "      <td>185.0</td>\n",
       "      <td>NaN</td>\n",
       "      <td>2017</td>\n",
       "      <td>Baden-Württemberg</td>\n",
       "    </tr>\n",
       "    <tr>\n",
       "      <th>1</th>\n",
       "      <td>EA-02</td>\n",
       "      <td>Thermal waste treatment plants</td>\n",
       "      <td>1856.4</td>\n",
       "      <td>39.3</td>\n",
       "      <td>1785.6</td>\n",
       "      <td>31.5</td>\n",
       "      <td>NaN</td>\n",
       "      <td>498.1</td>\n",
       "      <td>17.1</td>\n",
       "      <td>477.2</td>\n",
       "      <td>NaN</td>\n",
       "      <td>3.7</td>\n",
       "      <td>0.9</td>\n",
       "      <td>2017</td>\n",
       "      <td>Baden-Württemberg</td>\n",
       "    </tr>\n",
       "    <tr>\n",
       "      <th>2</th>\n",
       "      <td>EA-03</td>\n",
       "      <td>Combustion plants</td>\n",
       "      <td>2411.2</td>\n",
       "      <td>417.2</td>\n",
       "      <td>1977.0</td>\n",
       "      <td>17.0</td>\n",
       "      <td>NaN</td>\n",
       "      <td>177.7</td>\n",
       "      <td>81.6</td>\n",
       "      <td>95.8</td>\n",
       "      <td>NaN</td>\n",
       "      <td>0.3</td>\n",
       "      <td>0.9</td>\n",
       "      <td>2017</td>\n",
       "      <td>Baden-Württemberg</td>\n",
       "    </tr>\n",
       "    <tr>\n",
       "      <th>3</th>\n",
       "      <td>EA-04</td>\n",
       "      <td>Chemical-physical treatment plants</td>\n",
       "      <td>1100.0</td>\n",
       "      <td>155.0</td>\n",
       "      <td>355.0</td>\n",
       "      <td>35.0</td>\n",
       "      <td>NaN</td>\n",
       "      <td>590.0</td>\n",
       "      <td>45.0</td>\n",
       "      <td>380.0</td>\n",
       "      <td>NaN</td>\n",
       "      <td>185.0</td>\n",
       "      <td>0.9</td>\n",
       "      <td>2017</td>\n",
       "      <td>Baden-Württemberg</td>\n",
       "    </tr>\n",
       "    <tr>\n",
       "      <th>4</th>\n",
       "      <td>EA-05</td>\n",
       "      <td>Soil treatment plants</td>\n",
       "      <td>NaN</td>\n",
       "      <td>156.0</td>\n",
       "      <td>NaN</td>\n",
       "      <td>NaN</td>\n",
       "      <td>NaN</td>\n",
       "      <td>NaN</td>\n",
       "      <td>45.0</td>\n",
       "      <td>386.0</td>\n",
       "      <td>NaN</td>\n",
       "      <td>180.0</td>\n",
       "      <td>0.9</td>\n",
       "      <td>2017</td>\n",
       "      <td>Baden-Württemberg</td>\n",
       "    </tr>\n",
       "  </tbody>\n",
       "</table>\n",
       "</div>"
      ],
      "text/plain": [
       "      Id                       Type_of_plant  Input_to_waste_treatment_plants  \\\n",
       "0  EA-01                           Landfills                           5629.8   \n",
       "1  EA-02      Thermal waste treatment plants                           1856.4   \n",
       "2  EA-03                   Combustion plants                           2411.2   \n",
       "3  EA-04  Chemical-physical treatment plants                           1100.0   \n",
       "4  EA-05               Soil treatment plants                              NaN   \n",
       "\n",
       "   waste_generated_in_local_unit  Waste_delivered_from_domestic_territory  \\\n",
       "0                          132.3                                   5436.4   \n",
       "1                           39.3                                   1785.6   \n",
       "2                          417.2                                   1977.0   \n",
       "3                          155.0                                    355.0   \n",
       "4                          156.0                                      NaN   \n",
       "\n",
       "   Wastes_delivered_from_abroad  Output_ratio_of_waste_Treatment_plants  \\\n",
       "0                          61.1                                     NaN   \n",
       "1                          31.5                                     NaN   \n",
       "2                          17.0                                     NaN   \n",
       "3                          35.0                                     NaN   \n",
       "4                           NaN                                     NaN   \n",
       "\n",
       "   Output_of_waste_treatment_plants  Disposed_of_waste  Wastes_to_be_recoverd  \\\n",
       "0                             590.0               45.0                  380.0   \n",
       "1                             498.1               17.1                  477.2   \n",
       "2                             177.7               81.6                   95.8   \n",
       "3                             590.0               45.0                  380.0   \n",
       "4                               NaN               45.0                  386.0   \n",
       "\n",
       "   Waste_to_preparatory_process  \\\n",
       "0                           NaN   \n",
       "1                           NaN   \n",
       "2                           NaN   \n",
       "3                           NaN   \n",
       "4                           NaN   \n",
       "\n",
       "   Distribution_to_other_plants_users_or_traders  \\\n",
       "0                                          185.0   \n",
       "1                                            3.7   \n",
       "2                                            0.3   \n",
       "3                                          185.0   \n",
       "4                                          180.0   \n",
       "\n",
       "   Waste_quantities_generated_by_primary_producers/1000tons  Year  \\\n",
       "0                                                NaN         2017   \n",
       "1                                                0.9         2017   \n",
       "2                                                0.9         2017   \n",
       "3                                                0.9         2017   \n",
       "4                                                0.9         2017   \n",
       "\n",
       "               State  \n",
       "0  Baden-Württemberg  \n",
       "1  Baden-Württemberg  \n",
       "2  Baden-Württemberg  \n",
       "3  Baden-Württemberg  \n",
       "4  Baden-Württemberg  "
      ]
     },
     "execution_count": 21,
     "metadata": {},
     "output_type": "execute_result"
    }
   ],
   "source": [
    "df.head(5)"
   ]
  },
  {
   "cell_type": "code",
   "execution_count": 22,
   "id": "6c91617e",
   "metadata": {},
   "outputs": [
    {
     "data": {
      "text/plain": [
       "Id                                                            0\n",
       "Type_of_plant                                                 0\n",
       "Input_to_waste_treatment_plants                              81\n",
       "waste_generated_in_local_unit                                80\n",
       "Waste_delivered_from_domestic_territory                      96\n",
       "Wastes_delivered_from_abroad                                101\n",
       "Output_ratio_of_waste_Treatment_plants                      960\n",
       "Output_of_waste_treatment_plants                             82\n",
       "Disposed_of_waste                                           111\n",
       "Wastes_to_be_recoverd                                       140\n",
       "Waste_to_preparatory_process                                839\n",
       "Distribution_to_other_plants_users_or_traders               156\n",
       "Waste_quantities_generated_by_primary_producers/1000tons    226\n",
       "Year                                                          0\n",
       "State                                                         0\n",
       "dtype: int64"
      ]
     },
     "execution_count": 22,
     "metadata": {},
     "output_type": "execute_result"
    }
   ],
   "source": [
    "df.isnull().sum()"
   ]
  },
  {
   "cell_type": "code",
   "execution_count": 23,
   "id": "8892ea8b",
   "metadata": {},
   "outputs": [],
   "source": [
    "### It is evident that the dataset has one column Waste_to_preparatory_process column that has abundant \n",
    "## null-values so it is better to get rid of these values. \n",
    "## Similarly Output_ratio_of_waste_treatment_plants also has very much null values.\n",
    "## So we get rid of this column as well. \n",
    "df.drop(\"Waste_to_preparatory_process\",axis=1,inplace=True)\n",
    "df.drop(\"Output_ratio_of_waste_Treatment_plants\",axis=1,inplace=True)"
   ]
  },
  {
   "cell_type": "code",
   "execution_count": 24,
   "id": "cd360b28",
   "metadata": {},
   "outputs": [
    {
     "data": {
      "text/plain": [
       "Id                                                            0\n",
       "Type_of_plant                                                 0\n",
       "Input_to_waste_treatment_plants                              81\n",
       "waste_generated_in_local_unit                                80\n",
       "Waste_delivered_from_domestic_territory                      96\n",
       "Wastes_delivered_from_abroad                                101\n",
       "Output_of_waste_treatment_plants                             82\n",
       "Disposed_of_waste                                           111\n",
       "Wastes_to_be_recoverd                                       140\n",
       "Distribution_to_other_plants_users_or_traders               156\n",
       "Waste_quantities_generated_by_primary_producers/1000tons    226\n",
       "Year                                                          0\n",
       "State                                                         0\n",
       "dtype: int64"
      ]
     },
     "execution_count": 24,
     "metadata": {},
     "output_type": "execute_result"
    }
   ],
   "source": [
    "df.isnull().sum()"
   ]
  },
  {
   "cell_type": "code",
   "execution_count": 25,
   "id": "597fbe01",
   "metadata": {},
   "outputs": [],
   "source": [
    "## Since now we have a dataset with columns that have some of its values as null. \n",
    "### The idea is to have real-world dataset as much as possible. So in order to have a real-world dataset.\n",
    "## we will get rid of the rows that have even one null values in them.\n",
    "df.dropna(axis=0,inplace=True)"
   ]
  },
  {
   "cell_type": "code",
   "execution_count": 26,
   "id": "0ccaba2e",
   "metadata": {},
   "outputs": [
    {
     "name": "stdout",
     "output_type": "stream",
     "text": [
      "<class 'pandas.core.frame.DataFrame'>\n",
      "Int64Index: 491 entries, 1 to 769\n",
      "Data columns (total 13 columns):\n",
      " #   Column                                                    Non-Null Count  Dtype  \n",
      "---  ------                                                    --------------  -----  \n",
      " 0   Id                                                        491 non-null    object \n",
      " 1   Type_of_plant                                             491 non-null    object \n",
      " 2   Input_to_waste_treatment_plants                           491 non-null    float64\n",
      " 3   waste_generated_in_local_unit                             491 non-null    float64\n",
      " 4   Waste_delivered_from_domestic_territory                   491 non-null    float64\n",
      " 5   Wastes_delivered_from_abroad                              491 non-null    float64\n",
      " 6   Output_of_waste_treatment_plants                          491 non-null    float64\n",
      " 7   Disposed_of_waste                                         491 non-null    float64\n",
      " 8   Wastes_to_be_recoverd                                     491 non-null    float64\n",
      " 9   Distribution_to_other_plants_users_or_traders             491 non-null    float64\n",
      " 10  Waste_quantities_generated_by_primary_producers/1000tons  491 non-null    float64\n",
      " 11  Year                                                      491 non-null    int64  \n",
      " 12  State                                                     491 non-null    object \n",
      "dtypes: float64(9), int64(1), object(3)\n",
      "memory usage: 53.7+ KB\n"
     ]
    }
   ],
   "source": [
    "df.info()"
   ]
  },
  {
   "cell_type": "code",
   "execution_count": 27,
   "id": "97d379b1",
   "metadata": {},
   "outputs": [
    {
     "name": "stdout",
     "output_type": "stream",
     "text": [
      "<class 'pandas.core.frame.DataFrame'>\n",
      "Int64Index: 784 entries, 0 to 783\n",
      "Data columns (total 9 columns):\n",
      " #   Column                                                         Non-Null Count  Dtype  \n",
      "---  ------                                                         --------------  -----  \n",
      " 0   Unnamed: 0                                                     784 non-null    int64  \n",
      " 1   ID                                                             784 non-null    object \n",
      " 2   Categories                                                     784 non-null    object \n",
      " 3   Waste Type                                                     784 non-null    object \n",
      " 4   Waste producers(No.)                                           784 non-null    float64\n",
      " 5   Waste quantities per 1000 tons                                 784 non-null    float64\n",
      " 6   Waste quantities generated by primary producers per 1000 tons  784 non-null    float64\n",
      " 7   Year                                                           784 non-null    int64  \n",
      " 8   Wastes generated in the own local unit 1000 t                  784 non-null    float64\n",
      "dtypes: float64(4), int64(2), object(3)\n",
      "memory usage: 61.2+ KB\n"
     ]
    }
   ],
   "source": [
    "waste_categories.info()"
   ]
  },
  {
   "cell_type": "code",
   "execution_count": 28,
   "id": "a0dc44d8",
   "metadata": {},
   "outputs": [
    {
     "data": {
      "text/html": [
       "<div>\n",
       "<style scoped>\n",
       "    .dataframe tbody tr th:only-of-type {\n",
       "        vertical-align: middle;\n",
       "    }\n",
       "\n",
       "    .dataframe tbody tr th {\n",
       "        vertical-align: top;\n",
       "    }\n",
       "\n",
       "    .dataframe thead th {\n",
       "        text-align: right;\n",
       "    }\n",
       "</style>\n",
       "<table border=\"1\" class=\"dataframe\">\n",
       "  <thead>\n",
       "    <tr style=\"text-align: right;\">\n",
       "      <th></th>\n",
       "      <th>Id</th>\n",
       "      <th>Type_of_plant</th>\n",
       "      <th>Input_to_waste_treatment_plants</th>\n",
       "      <th>waste_generated_in_local_unit</th>\n",
       "      <th>Waste_delivered_from_domestic_territory</th>\n",
       "      <th>Wastes_delivered_from_abroad</th>\n",
       "      <th>Output_of_waste_treatment_plants</th>\n",
       "      <th>Disposed_of_waste</th>\n",
       "      <th>Wastes_to_be_recoverd</th>\n",
       "      <th>Distribution_to_other_plants_users_or_traders</th>\n",
       "      <th>Waste_quantities_generated_by_primary_producers/1000tons</th>\n",
       "      <th>Year</th>\n",
       "      <th>State</th>\n",
       "    </tr>\n",
       "  </thead>\n",
       "  <tbody>\n",
       "    <tr>\n",
       "      <th>1</th>\n",
       "      <td>EA-02</td>\n",
       "      <td>Thermal waste treatment plants</td>\n",
       "      <td>1856.4</td>\n",
       "      <td>39.3</td>\n",
       "      <td>1785.6</td>\n",
       "      <td>31.5</td>\n",
       "      <td>498.1</td>\n",
       "      <td>17.1</td>\n",
       "      <td>477.2</td>\n",
       "      <td>3.7</td>\n",
       "      <td>0.9</td>\n",
       "      <td>2017</td>\n",
       "      <td>Baden-Württemberg</td>\n",
       "    </tr>\n",
       "    <tr>\n",
       "      <th>2</th>\n",
       "      <td>EA-03</td>\n",
       "      <td>Combustion plants</td>\n",
       "      <td>2411.2</td>\n",
       "      <td>417.2</td>\n",
       "      <td>1977.0</td>\n",
       "      <td>17.0</td>\n",
       "      <td>177.7</td>\n",
       "      <td>81.6</td>\n",
       "      <td>95.8</td>\n",
       "      <td>0.3</td>\n",
       "      <td>0.9</td>\n",
       "      <td>2017</td>\n",
       "      <td>Baden-Württemberg</td>\n",
       "    </tr>\n",
       "    <tr>\n",
       "      <th>3</th>\n",
       "      <td>EA-04</td>\n",
       "      <td>Chemical-physical treatment plants</td>\n",
       "      <td>1100.0</td>\n",
       "      <td>155.0</td>\n",
       "      <td>355.0</td>\n",
       "      <td>35.0</td>\n",
       "      <td>590.0</td>\n",
       "      <td>45.0</td>\n",
       "      <td>380.0</td>\n",
       "      <td>185.0</td>\n",
       "      <td>0.9</td>\n",
       "      <td>2017</td>\n",
       "      <td>Baden-Württemberg</td>\n",
       "    </tr>\n",
       "    <tr>\n",
       "      <th>8</th>\n",
       "      <td>EA-09</td>\n",
       "      <td>Shredding plants and scrap shears</td>\n",
       "      <td>2105.2</td>\n",
       "      <td>47.2</td>\n",
       "      <td>1949.9</td>\n",
       "      <td>108.0</td>\n",
       "      <td>2122.1</td>\n",
       "      <td>0.3</td>\n",
       "      <td>1060.0</td>\n",
       "      <td>1061.9</td>\n",
       "      <td>0.9</td>\n",
       "      <td>2017</td>\n",
       "      <td>Baden-Württemberg</td>\n",
       "    </tr>\n",
       "    <tr>\n",
       "      <th>9</th>\n",
       "      <td>EA-10</td>\n",
       "      <td>Sorting plants</td>\n",
       "      <td>2600.5</td>\n",
       "      <td>53.9</td>\n",
       "      <td>2333.9</td>\n",
       "      <td>212.8</td>\n",
       "      <td>2556.4</td>\n",
       "      <td>8.2</td>\n",
       "      <td>1305.4</td>\n",
       "      <td>1242.8</td>\n",
       "      <td>0.9</td>\n",
       "      <td>2017</td>\n",
       "      <td>Baden-Württemberg</td>\n",
       "    </tr>\n",
       "  </tbody>\n",
       "</table>\n",
       "</div>"
      ],
      "text/plain": [
       "      Id                       Type_of_plant  Input_to_waste_treatment_plants  \\\n",
       "1  EA-02      Thermal waste treatment plants                           1856.4   \n",
       "2  EA-03                   Combustion plants                           2411.2   \n",
       "3  EA-04  Chemical-physical treatment plants                           1100.0   \n",
       "8  EA-09   Shredding plants and scrap shears                           2105.2   \n",
       "9  EA-10                      Sorting plants                           2600.5   \n",
       "\n",
       "   waste_generated_in_local_unit  Waste_delivered_from_domestic_territory  \\\n",
       "1                           39.3                                   1785.6   \n",
       "2                          417.2                                   1977.0   \n",
       "3                          155.0                                    355.0   \n",
       "8                           47.2                                   1949.9   \n",
       "9                           53.9                                   2333.9   \n",
       "\n",
       "   Wastes_delivered_from_abroad  Output_of_waste_treatment_plants  \\\n",
       "1                          31.5                             498.1   \n",
       "2                          17.0                             177.7   \n",
       "3                          35.0                             590.0   \n",
       "8                         108.0                            2122.1   \n",
       "9                         212.8                            2556.4   \n",
       "\n",
       "   Disposed_of_waste  Wastes_to_be_recoverd  \\\n",
       "1               17.1                  477.2   \n",
       "2               81.6                   95.8   \n",
       "3               45.0                  380.0   \n",
       "8                0.3                 1060.0   \n",
       "9                8.2                 1305.4   \n",
       "\n",
       "   Distribution_to_other_plants_users_or_traders  \\\n",
       "1                                            3.7   \n",
       "2                                            0.3   \n",
       "3                                          185.0   \n",
       "8                                         1061.9   \n",
       "9                                         1242.8   \n",
       "\n",
       "   Waste_quantities_generated_by_primary_producers/1000tons  Year  \\\n",
       "1                                                0.9         2017   \n",
       "2                                                0.9         2017   \n",
       "3                                                0.9         2017   \n",
       "8                                                0.9         2017   \n",
       "9                                                0.9         2017   \n",
       "\n",
       "               State  \n",
       "1  Baden-Württemberg  \n",
       "2  Baden-Württemberg  \n",
       "3  Baden-Württemberg  \n",
       "8  Baden-Württemberg  \n",
       "9  Baden-Württemberg  "
      ]
     },
     "execution_count": 28,
     "metadata": {},
     "output_type": "execute_result"
    }
   ],
   "source": [
    "df.head(5)"
   ]
  },
  {
   "cell_type": "code",
   "execution_count": 29,
   "id": "25f35359",
   "metadata": {},
   "outputs": [
    {
     "name": "stdout",
     "output_type": "stream",
     "text": [
      "<class 'pandas.core.frame.DataFrame'>\n",
      "Int64Index: 784 entries, 0 to 783\n",
      "Data columns (total 9 columns):\n",
      " #   Column                                                         Non-Null Count  Dtype  \n",
      "---  ------                                                         --------------  -----  \n",
      " 0   Unnamed: 0                                                     784 non-null    int64  \n",
      " 1   ID                                                             784 non-null    object \n",
      " 2   Categories                                                     784 non-null    object \n",
      " 3   Waste Type                                                     784 non-null    object \n",
      " 4   Waste producers(No.)                                           784 non-null    float64\n",
      " 5   Waste quantities per 1000 tons                                 784 non-null    float64\n",
      " 6   Waste quantities generated by primary producers per 1000 tons  784 non-null    float64\n",
      " 7   Year                                                           784 non-null    int64  \n",
      " 8   Wastes generated in the own local unit 1000 t                  784 non-null    float64\n",
      "dtypes: float64(4), int64(2), object(3)\n",
      "memory usage: 61.2+ KB\n"
     ]
    }
   ],
   "source": [
    "waste_categories.info()"
   ]
  },
  {
   "cell_type": "code",
   "execution_count": 30,
   "id": "ac0d57ac",
   "metadata": {},
   "outputs": [
    {
     "data": {
      "text/html": [
       "<div>\n",
       "<style scoped>\n",
       "    .dataframe tbody tr th:only-of-type {\n",
       "        vertical-align: middle;\n",
       "    }\n",
       "\n",
       "    .dataframe tbody tr th {\n",
       "        vertical-align: top;\n",
       "    }\n",
       "\n",
       "    .dataframe thead th {\n",
       "        text-align: right;\n",
       "    }\n",
       "</style>\n",
       "<table border=\"1\" class=\"dataframe\">\n",
       "  <thead>\n",
       "    <tr style=\"text-align: right;\">\n",
       "      <th></th>\n",
       "      <th>Unnamed: 0</th>\n",
       "      <th>ID</th>\n",
       "      <th>Categories</th>\n",
       "      <th>Waste Type</th>\n",
       "      <th>Waste producers(No.)</th>\n",
       "      <th>Waste quantities per 1000 tons</th>\n",
       "      <th>Waste quantities generated by primary producers per 1000 tons</th>\n",
       "      <th>Year</th>\n",
       "      <th>Wastes generated in the own local unit 1000 t</th>\n",
       "    </tr>\n",
       "  </thead>\n",
       "  <tbody>\n",
       "    <tr>\n",
       "      <th>0</th>\n",
       "      <td>0</td>\n",
       "      <td>EA-01</td>\n",
       "      <td>Manufacture of food products, beverages, tobacco</td>\n",
       "      <td>Wastes resulting from expl., mining of minerals</td>\n",
       "      <td>27.0</td>\n",
       "      <td>0.7</td>\n",
       "      <td>0.9</td>\n",
       "      <td>2017</td>\n",
       "      <td>27.0</td>\n",
       "    </tr>\n",
       "    <tr>\n",
       "      <th>1</th>\n",
       "      <td>1</td>\n",
       "      <td>EA-02</td>\n",
       "      <td>Manufacture of food products, beverages, tobacco</td>\n",
       "      <td>Wastes from agriculture,horticulture,forestry ...</td>\n",
       "      <td>27.0</td>\n",
       "      <td>0.7</td>\n",
       "      <td>0.9</td>\n",
       "      <td>2017</td>\n",
       "      <td>26619.5</td>\n",
       "    </tr>\n",
       "    <tr>\n",
       "      <th>2</th>\n",
       "      <td>2</td>\n",
       "      <td>EA-03</td>\n",
       "      <td>Manufacture of food products, beverages, tobacco</td>\n",
       "      <td>Wastes from wood processing etc.</td>\n",
       "      <td>27.0</td>\n",
       "      <td>0.7</td>\n",
       "      <td>0.9</td>\n",
       "      <td>2017</td>\n",
       "      <td>3.6</td>\n",
       "    </tr>\n",
       "    <tr>\n",
       "      <th>3</th>\n",
       "      <td>3</td>\n",
       "      <td>EA-04</td>\n",
       "      <td>Manufacture of food products, beverages, tobacco</td>\n",
       "      <td>Wastes from the leather, fur, textile industries</td>\n",
       "      <td>27.0</td>\n",
       "      <td>0.7</td>\n",
       "      <td>0.9</td>\n",
       "      <td>2017</td>\n",
       "      <td>0.0</td>\n",
       "    </tr>\n",
       "    <tr>\n",
       "      <th>4</th>\n",
       "      <td>4</td>\n",
       "      <td>EA-05</td>\n",
       "      <td>Manufacture of food products, beverages, tobacco</td>\n",
       "      <td>Wastes from petrol. refining, natural gas puri...</td>\n",
       "      <td>27.0</td>\n",
       "      <td>0.7</td>\n",
       "      <td>0.9</td>\n",
       "      <td>2017</td>\n",
       "      <td>835.2</td>\n",
       "    </tr>\n",
       "  </tbody>\n",
       "</table>\n",
       "</div>"
      ],
      "text/plain": [
       "   Unnamed: 0     ID                                        Categories  \\\n",
       "0           0  EA-01  Manufacture of food products, beverages, tobacco   \n",
       "1           1  EA-02  Manufacture of food products, beverages, tobacco   \n",
       "2           2  EA-03  Manufacture of food products, beverages, tobacco   \n",
       "3           3  EA-04  Manufacture of food products, beverages, tobacco   \n",
       "4           4  EA-05  Manufacture of food products, beverages, tobacco   \n",
       "\n",
       "                                          Waste Type  Waste producers(No.)  \\\n",
       "0    Wastes resulting from expl., mining of minerals                  27.0   \n",
       "1  Wastes from agriculture,horticulture,forestry ...                  27.0   \n",
       "2                   Wastes from wood processing etc.                  27.0   \n",
       "3   Wastes from the leather, fur, textile industries                  27.0   \n",
       "4  Wastes from petrol. refining, natural gas puri...                  27.0   \n",
       "\n",
       "   Waste quantities per 1000 tons  \\\n",
       "0                             0.7   \n",
       "1                             0.7   \n",
       "2                             0.7   \n",
       "3                             0.7   \n",
       "4                             0.7   \n",
       "\n",
       "   Waste quantities generated by primary producers per 1000 tons  Year  \\\n",
       "0                                                0.9              2017   \n",
       "1                                                0.9              2017   \n",
       "2                                                0.9              2017   \n",
       "3                                                0.9              2017   \n",
       "4                                                0.9              2017   \n",
       "\n",
       "   Wastes generated in the own local unit 1000 t  \n",
       "0                                           27.0  \n",
       "1                                        26619.5  \n",
       "2                                            3.6  \n",
       "3                                            0.0  \n",
       "4                                          835.2  "
      ]
     },
     "execution_count": 30,
     "metadata": {},
     "output_type": "execute_result"
    }
   ],
   "source": [
    "waste_categories.head(5)"
   ]
  },
  {
   "cell_type": "code",
   "execution_count": 31,
   "id": "3d268041",
   "metadata": {},
   "outputs": [],
   "source": [
    "waste_categories = waste_categories.rename(columns = {\"Id\":\"ID\"})"
   ]
  },
  {
   "cell_type": "code",
   "execution_count": 32,
   "id": "f4e6d3c2",
   "metadata": {},
   "outputs": [],
   "source": [
    "df = df.rename(columns={\"Id\":\"ID\"})"
   ]
  },
  {
   "cell_type": "code",
   "execution_count": 33,
   "id": "ce03dcbb",
   "metadata": {},
   "outputs": [],
   "source": [
    "keys_matches = ~df[\"ID\"].isin(waste_categories[\"ID\"])"
   ]
  },
  {
   "cell_type": "code",
   "execution_count": 34,
   "id": "c92dede3",
   "metadata": {},
   "outputs": [],
   "source": [
    "matched = df[keys_matches]"
   ]
  },
  {
   "cell_type": "code",
   "execution_count": 35,
   "id": "aa0f595c",
   "metadata": {},
   "outputs": [
    {
     "data": {
      "text/plain": [
       "array([], dtype=object)"
      ]
     },
     "execution_count": 35,
     "metadata": {},
     "output_type": "execute_result"
    }
   ],
   "source": [
    "matched[\"ID\"].unique()"
   ]
  },
  {
   "cell_type": "code",
   "execution_count": 36,
   "id": "d6017152",
   "metadata": {},
   "outputs": [],
   "source": [
    "df = pd.merge(left=df, right=waste_categories.loc[:, [\"ID\",\"Categories\",\"Waste Type\"]], on=\"ID\", how=\"right\")\n"
   ]
  },
  {
   "cell_type": "code",
   "execution_count": 37,
   "id": "b7c5184d",
   "metadata": {},
   "outputs": [
    {
     "data": {
      "text/html": [
       "<div>\n",
       "<style scoped>\n",
       "    .dataframe tbody tr th:only-of-type {\n",
       "        vertical-align: middle;\n",
       "    }\n",
       "\n",
       "    .dataframe tbody tr th {\n",
       "        vertical-align: top;\n",
       "    }\n",
       "\n",
       "    .dataframe thead th {\n",
       "        text-align: right;\n",
       "    }\n",
       "</style>\n",
       "<table border=\"1\" class=\"dataframe\">\n",
       "  <thead>\n",
       "    <tr style=\"text-align: right;\">\n",
       "      <th></th>\n",
       "      <th>ID</th>\n",
       "      <th>Type_of_plant</th>\n",
       "      <th>Input_to_waste_treatment_plants</th>\n",
       "      <th>waste_generated_in_local_unit</th>\n",
       "      <th>Waste_delivered_from_domestic_territory</th>\n",
       "      <th>Wastes_delivered_from_abroad</th>\n",
       "      <th>Output_of_waste_treatment_plants</th>\n",
       "      <th>Disposed_of_waste</th>\n",
       "      <th>Wastes_to_be_recoverd</th>\n",
       "      <th>Distribution_to_other_plants_users_or_traders</th>\n",
       "      <th>Waste_quantities_generated_by_primary_producers/1000tons</th>\n",
       "      <th>Year</th>\n",
       "      <th>State</th>\n",
       "      <th>Categories</th>\n",
       "      <th>Waste Type</th>\n",
       "    </tr>\n",
       "  </thead>\n",
       "  <tbody>\n",
       "    <tr>\n",
       "      <th>0</th>\n",
       "      <td>EA-01</td>\n",
       "      <td>NaN</td>\n",
       "      <td>NaN</td>\n",
       "      <td>NaN</td>\n",
       "      <td>NaN</td>\n",
       "      <td>NaN</td>\n",
       "      <td>NaN</td>\n",
       "      <td>NaN</td>\n",
       "      <td>NaN</td>\n",
       "      <td>NaN</td>\n",
       "      <td>NaN</td>\n",
       "      <td>NaN</td>\n",
       "      <td>NaN</td>\n",
       "      <td>Manufacture of food products, beverages, tobacco</td>\n",
       "      <td>Wastes resulting from expl., mining of minerals</td>\n",
       "    </tr>\n",
       "    <tr>\n",
       "      <th>1</th>\n",
       "      <td>EA-02</td>\n",
       "      <td>Thermal waste treatment plants</td>\n",
       "      <td>1856.4</td>\n",
       "      <td>39.3</td>\n",
       "      <td>1785.6</td>\n",
       "      <td>31.5</td>\n",
       "      <td>498.1</td>\n",
       "      <td>17.1</td>\n",
       "      <td>477.2</td>\n",
       "      <td>3.7</td>\n",
       "      <td>0.9</td>\n",
       "      <td>2017.0</td>\n",
       "      <td>Baden-Württemberg</td>\n",
       "      <td>Manufacture of food products, beverages, tobacco</td>\n",
       "      <td>Wastes from agriculture,horticulture,forestry ...</td>\n",
       "    </tr>\n",
       "    <tr>\n",
       "      <th>2</th>\n",
       "      <td>EA-03</td>\n",
       "      <td>Combustion plants</td>\n",
       "      <td>2411.2</td>\n",
       "      <td>417.2</td>\n",
       "      <td>1977.0</td>\n",
       "      <td>17.0</td>\n",
       "      <td>177.7</td>\n",
       "      <td>81.6</td>\n",
       "      <td>95.8</td>\n",
       "      <td>0.3</td>\n",
       "      <td>0.9</td>\n",
       "      <td>2017.0</td>\n",
       "      <td>Baden-Württemberg</td>\n",
       "      <td>Manufacture of food products, beverages, tobacco</td>\n",
       "      <td>Wastes from wood processing etc.</td>\n",
       "    </tr>\n",
       "    <tr>\n",
       "      <th>3</th>\n",
       "      <td>EA-04</td>\n",
       "      <td>Chemical-physical treatment plants</td>\n",
       "      <td>1100.0</td>\n",
       "      <td>155.0</td>\n",
       "      <td>355.0</td>\n",
       "      <td>35.0</td>\n",
       "      <td>590.0</td>\n",
       "      <td>45.0</td>\n",
       "      <td>380.0</td>\n",
       "      <td>185.0</td>\n",
       "      <td>0.9</td>\n",
       "      <td>2017.0</td>\n",
       "      <td>Baden-Württemberg</td>\n",
       "      <td>Manufacture of food products, beverages, tobacco</td>\n",
       "      <td>Wastes from the leather, fur, textile industries</td>\n",
       "    </tr>\n",
       "    <tr>\n",
       "      <th>4</th>\n",
       "      <td>EA-05</td>\n",
       "      <td>NaN</td>\n",
       "      <td>NaN</td>\n",
       "      <td>NaN</td>\n",
       "      <td>NaN</td>\n",
       "      <td>NaN</td>\n",
       "      <td>NaN</td>\n",
       "      <td>NaN</td>\n",
       "      <td>NaN</td>\n",
       "      <td>NaN</td>\n",
       "      <td>NaN</td>\n",
       "      <td>NaN</td>\n",
       "      <td>NaN</td>\n",
       "      <td>Manufacture of food products, beverages, tobacco</td>\n",
       "      <td>Wastes from petrol. refining, natural gas puri...</td>\n",
       "    </tr>\n",
       "  </tbody>\n",
       "</table>\n",
       "</div>"
      ],
      "text/plain": [
       "      ID                       Type_of_plant  Input_to_waste_treatment_plants  \\\n",
       "0  EA-01                                 NaN                              NaN   \n",
       "1  EA-02      Thermal waste treatment plants                           1856.4   \n",
       "2  EA-03                   Combustion plants                           2411.2   \n",
       "3  EA-04  Chemical-physical treatment plants                           1100.0   \n",
       "4  EA-05                                 NaN                              NaN   \n",
       "\n",
       "   waste_generated_in_local_unit  Waste_delivered_from_domestic_territory  \\\n",
       "0                            NaN                                      NaN   \n",
       "1                           39.3                                   1785.6   \n",
       "2                          417.2                                   1977.0   \n",
       "3                          155.0                                    355.0   \n",
       "4                            NaN                                      NaN   \n",
       "\n",
       "   Wastes_delivered_from_abroad  Output_of_waste_treatment_plants  \\\n",
       "0                           NaN                               NaN   \n",
       "1                          31.5                             498.1   \n",
       "2                          17.0                             177.7   \n",
       "3                          35.0                             590.0   \n",
       "4                           NaN                               NaN   \n",
       "\n",
       "   Disposed_of_waste  Wastes_to_be_recoverd  \\\n",
       "0                NaN                    NaN   \n",
       "1               17.1                  477.2   \n",
       "2               81.6                   95.8   \n",
       "3               45.0                  380.0   \n",
       "4                NaN                    NaN   \n",
       "\n",
       "   Distribution_to_other_plants_users_or_traders  \\\n",
       "0                                            NaN   \n",
       "1                                            3.7   \n",
       "2                                            0.3   \n",
       "3                                          185.0   \n",
       "4                                            NaN   \n",
       "\n",
       "   Waste_quantities_generated_by_primary_producers/1000tons    Year  \\\n",
       "0                                                NaN            NaN   \n",
       "1                                                0.9         2017.0   \n",
       "2                                                0.9         2017.0   \n",
       "3                                                0.9         2017.0   \n",
       "4                                                NaN            NaN   \n",
       "\n",
       "               State                                        Categories  \\\n",
       "0                NaN  Manufacture of food products, beverages, tobacco   \n",
       "1  Baden-Württemberg  Manufacture of food products, beverages, tobacco   \n",
       "2  Baden-Württemberg  Manufacture of food products, beverages, tobacco   \n",
       "3  Baden-Württemberg  Manufacture of food products, beverages, tobacco   \n",
       "4                NaN  Manufacture of food products, beverages, tobacco   \n",
       "\n",
       "                                          Waste Type  \n",
       "0    Wastes resulting from expl., mining of minerals  \n",
       "1  Wastes from agriculture,horticulture,forestry ...  \n",
       "2                   Wastes from wood processing etc.  \n",
       "3   Wastes from the leather, fur, textile industries  \n",
       "4  Wastes from petrol. refining, natural gas puri...  "
      ]
     },
     "execution_count": 37,
     "metadata": {},
     "output_type": "execute_result"
    }
   ],
   "source": [
    "df.head(5)"
   ]
  },
  {
   "cell_type": "code",
   "execution_count": 38,
   "id": "fadc950a",
   "metadata": {},
   "outputs": [],
   "source": [
    "df.dropna(axis=0,inplace=True)"
   ]
  },
  {
   "cell_type": "code",
   "execution_count": 39,
   "id": "438702e7",
   "metadata": {},
   "outputs": [
    {
     "name": "stdout",
     "output_type": "stream",
     "text": [
      "<class 'pandas.core.frame.DataFrame'>\n",
      "Int64Index: 491 entries, 1 to 769\n",
      "Data columns (total 15 columns):\n",
      " #   Column                                                    Non-Null Count  Dtype  \n",
      "---  ------                                                    --------------  -----  \n",
      " 0   ID                                                        491 non-null    object \n",
      " 1   Type_of_plant                                             491 non-null    object \n",
      " 2   Input_to_waste_treatment_plants                           491 non-null    float64\n",
      " 3   waste_generated_in_local_unit                             491 non-null    float64\n",
      " 4   Waste_delivered_from_domestic_territory                   491 non-null    float64\n",
      " 5   Wastes_delivered_from_abroad                              491 non-null    float64\n",
      " 6   Output_of_waste_treatment_plants                          491 non-null    float64\n",
      " 7   Disposed_of_waste                                         491 non-null    float64\n",
      " 8   Wastes_to_be_recoverd                                     491 non-null    float64\n",
      " 9   Distribution_to_other_plants_users_or_traders             491 non-null    float64\n",
      " 10  Waste_quantities_generated_by_primary_producers/1000tons  491 non-null    float64\n",
      " 11  Year                                                      491 non-null    float64\n",
      " 12  State                                                     491 non-null    object \n",
      " 13  Categories                                                491 non-null    object \n",
      " 14  Waste Type                                                491 non-null    object \n",
      "dtypes: float64(10), object(5)\n",
      "memory usage: 61.4+ KB\n"
     ]
    }
   ],
   "source": [
    "df.info()"
   ]
  },
  {
   "cell_type": "code",
   "execution_count": 40,
   "id": "8123a999",
   "metadata": {},
   "outputs": [
    {
     "name": "stdout",
     "output_type": "stream",
     "text": [
      "<class 'pandas.core.frame.DataFrame'>\n",
      "Int64Index: 491 entries, 1 to 769\n",
      "Data columns (total 15 columns):\n",
      " #   Column                                                    Non-Null Count  Dtype  \n",
      "---  ------                                                    --------------  -----  \n",
      " 0   ID                                                        491 non-null    object \n",
      " 1   Type_of_plant                                             491 non-null    object \n",
      " 2   Input_to_waste_treatment_plants                           491 non-null    float64\n",
      " 3   waste_generated_in_local_unit                             491 non-null    float64\n",
      " 4   Waste_delivered_from_domestic_territory                   491 non-null    float64\n",
      " 5   Wastes_delivered_from_abroad                              491 non-null    float64\n",
      " 6   Output_of_waste_treatment_plants                          491 non-null    float64\n",
      " 7   Disposed_of_waste                                         491 non-null    float64\n",
      " 8   Wastes_to_be_recoverd                                     491 non-null    float64\n",
      " 9   Distribution_to_other_plants_users_or_traders             491 non-null    float64\n",
      " 10  Waste_quantities_generated_by_primary_producers/1000tons  491 non-null    float64\n",
      " 11  Year                                                      491 non-null    float64\n",
      " 12  State                                                     491 non-null    object \n",
      " 13  Categories                                                491 non-null    object \n",
      " 14  Waste Type                                                491 non-null    object \n",
      "dtypes: float64(10), object(5)\n",
      "memory usage: 61.4+ KB\n"
     ]
    }
   ],
   "source": [
    "df.info()"
   ]
  },
  {
   "cell_type": "code",
   "execution_count": 41,
   "id": "35b8413f",
   "metadata": {},
   "outputs": [],
   "source": [
    "df.rename(columns={\"Waste Type\":\"Waste_Type\"},inplace=True)"
   ]
  },
  {
   "cell_type": "markdown",
   "id": "65962ded",
   "metadata": {},
   "source": [
    "# DATA STORAGE"
   ]
  },
  {
   "cell_type": "code",
   "execution_count": 42,
   "id": "544f160b",
   "metadata": {},
   "outputs": [],
   "source": [
    "## In this step we store our data into our database. The database is in Postgresql. "
   ]
  },
  {
   "cell_type": "code",
   "execution_count": 43,
   "id": "8a32ca88",
   "metadata": {},
   "outputs": [],
   "source": [
    "#import psycopg2\n",
    "#from sqlalchemy import create_engine\n",
    "\n",
    "# Connect to the database\n",
    "#conn = psycopg2.connect(\n",
    "  #  host=\"localhost\",\n",
    "  #  database=\"Waste_generation\",\n",
    "  #  user=\"postgres\",\n",
    "   # password=\"Imamali@143\"\n",
    "#)\n",
    "\n",
    "# Create an SQLAlchemy engine from the connection\n",
    "#engine = create_engine('postgresql+psycopg2://', creator=lambda: conn)\n",
    "\n",
    "# Define the DataFrame\n",
    "#df = ...\n",
    "\n",
    "# Write the DataFrame to a table in the database\n",
    "#table_name = 'Waste_Generation'\n",
    "#df.to_sql('Waste_Generation', engine, if_exists='replace', index=False)\n",
    "\n",
    "#Close the database connection\n",
    "#conn.close()\n"
   ]
  },
  {
   "cell_type": "markdown",
   "id": "97f028b1",
   "metadata": {},
   "source": [
    "# DATA PRE-PROCESSING"
   ]
  },
  {
   "cell_type": "code",
   "execution_count": 44,
   "id": "f9c087c6",
   "metadata": {},
   "outputs": [],
   "source": [
    "# Under this section we will be doing Data pre-processing in relation with the data analysis."
   ]
  },
  {
   "cell_type": "markdown",
   "id": "2be37f5b",
   "metadata": {},
   "source": [
    "# Feature Engineering\n",
    "In this section we would look at different columns and would try to do feature engineering carving out new features and deleting those that are not relevant anymore."
   ]
  },
  {
   "cell_type": "code",
   "execution_count": 45,
   "id": "60b80b95",
   "metadata": {},
   "outputs": [
    {
     "data": {
      "text/html": [
       "<div>\n",
       "<style scoped>\n",
       "    .dataframe tbody tr th:only-of-type {\n",
       "        vertical-align: middle;\n",
       "    }\n",
       "\n",
       "    .dataframe tbody tr th {\n",
       "        vertical-align: top;\n",
       "    }\n",
       "\n",
       "    .dataframe thead th {\n",
       "        text-align: right;\n",
       "    }\n",
       "</style>\n",
       "<table border=\"1\" class=\"dataframe\">\n",
       "  <thead>\n",
       "    <tr style=\"text-align: right;\">\n",
       "      <th></th>\n",
       "      <th>ID</th>\n",
       "      <th>Type_of_plant</th>\n",
       "      <th>Input_to_waste_treatment_plants</th>\n",
       "      <th>waste_generated_in_local_unit</th>\n",
       "      <th>Waste_delivered_from_domestic_territory</th>\n",
       "      <th>Wastes_delivered_from_abroad</th>\n",
       "      <th>Output_of_waste_treatment_plants</th>\n",
       "      <th>Disposed_of_waste</th>\n",
       "      <th>Wastes_to_be_recoverd</th>\n",
       "      <th>Distribution_to_other_plants_users_or_traders</th>\n",
       "      <th>Waste_quantities_generated_by_primary_producers/1000tons</th>\n",
       "      <th>Year</th>\n",
       "      <th>State</th>\n",
       "      <th>Categories</th>\n",
       "      <th>Waste_Type</th>\n",
       "    </tr>\n",
       "  </thead>\n",
       "  <tbody>\n",
       "    <tr>\n",
       "      <th>1</th>\n",
       "      <td>EA-02</td>\n",
       "      <td>Thermal waste treatment plants</td>\n",
       "      <td>1856.4</td>\n",
       "      <td>39.3</td>\n",
       "      <td>1785.6</td>\n",
       "      <td>31.5</td>\n",
       "      <td>498.1</td>\n",
       "      <td>17.1</td>\n",
       "      <td>477.2</td>\n",
       "      <td>3.7</td>\n",
       "      <td>0.9</td>\n",
       "      <td>2017.0</td>\n",
       "      <td>Baden-Württemberg</td>\n",
       "      <td>Manufacture of food products, beverages, tobacco</td>\n",
       "      <td>Wastes from agriculture,horticulture,forestry ...</td>\n",
       "    </tr>\n",
       "    <tr>\n",
       "      <th>2</th>\n",
       "      <td>EA-03</td>\n",
       "      <td>Combustion plants</td>\n",
       "      <td>2411.2</td>\n",
       "      <td>417.2</td>\n",
       "      <td>1977.0</td>\n",
       "      <td>17.0</td>\n",
       "      <td>177.7</td>\n",
       "      <td>81.6</td>\n",
       "      <td>95.8</td>\n",
       "      <td>0.3</td>\n",
       "      <td>0.9</td>\n",
       "      <td>2017.0</td>\n",
       "      <td>Baden-Württemberg</td>\n",
       "      <td>Manufacture of food products, beverages, tobacco</td>\n",
       "      <td>Wastes from wood processing etc.</td>\n",
       "    </tr>\n",
       "  </tbody>\n",
       "</table>\n",
       "</div>"
      ],
      "text/plain": [
       "      ID                   Type_of_plant  Input_to_waste_treatment_plants  \\\n",
       "1  EA-02  Thermal waste treatment plants                           1856.4   \n",
       "2  EA-03               Combustion plants                           2411.2   \n",
       "\n",
       "   waste_generated_in_local_unit  Waste_delivered_from_domestic_territory  \\\n",
       "1                           39.3                                   1785.6   \n",
       "2                          417.2                                   1977.0   \n",
       "\n",
       "   Wastes_delivered_from_abroad  Output_of_waste_treatment_plants  \\\n",
       "1                          31.5                             498.1   \n",
       "2                          17.0                             177.7   \n",
       "\n",
       "   Disposed_of_waste  Wastes_to_be_recoverd  \\\n",
       "1               17.1                  477.2   \n",
       "2               81.6                   95.8   \n",
       "\n",
       "   Distribution_to_other_plants_users_or_traders  \\\n",
       "1                                            3.7   \n",
       "2                                            0.3   \n",
       "\n",
       "   Waste_quantities_generated_by_primary_producers/1000tons    Year  \\\n",
       "1                                                0.9         2017.0   \n",
       "2                                                0.9         2017.0   \n",
       "\n",
       "               State                                        Categories  \\\n",
       "1  Baden-Württemberg  Manufacture of food products, beverages, tobacco   \n",
       "2  Baden-Württemberg  Manufacture of food products, beverages, tobacco   \n",
       "\n",
       "                                          Waste_Type  \n",
       "1  Wastes from agriculture,horticulture,forestry ...  \n",
       "2                   Wastes from wood processing etc.  "
      ]
     },
     "execution_count": 45,
     "metadata": {},
     "output_type": "execute_result"
    }
   ],
   "source": [
    "df.head(2)"
   ]
  },
  {
   "cell_type": "code",
   "execution_count": 46,
   "id": "53d2d1ff",
   "metadata": {},
   "outputs": [],
   "source": [
    "df['total_waste_generated'] = df['waste_generated_in_local_unit'] + df['Waste_delivered_from_domestic_territory'] + df['Wastes_delivered_from_abroad'] + (df['Waste_quantities_generated_by_primary_producers/1000tons']*1000)+df[\"Distribution_to_other_plants_users_or_traders\"]+df[\"Wastes_to_be_recoverd\"]+df[\"Disposed_of_waste\"]"
   ]
  },
  {
   "cell_type": "code",
   "execution_count": 47,
   "id": "8fb99df2",
   "metadata": {},
   "outputs": [],
   "source": [
    "#df['Total_waste_delivered'] = df['Waste_delivered_from_domestic_territory'] + df['Wastes_delivered_from_abroad']\n",
    "df['waste_treatment_rate'] = df['Output_of_waste_treatment_plants'] / df['Input_to_waste_treatment_plants']*100\n",
    "df['Total_recovered_materials'] = df['Wastes_to_be_recoverd'] + df['Distribution_to_other_plants_users_or_traders']\n"
   ]
  },
  {
   "cell_type": "code",
   "execution_count": 48,
   "id": "c8936c85",
   "metadata": {},
   "outputs": [],
   "source": [
    "conversion_factor = 0.5\n",
    "df['electricity_generation_potential'] = df['Total_recovered_materials'] * conversion_factor"
   ]
  },
  {
   "cell_type": "code",
   "execution_count": 49,
   "id": "98cb6875",
   "metadata": {},
   "outputs": [],
   "source": [
    "#for column in df.select_dtypes(include=np.number):\n",
    "   # mask = np.isinf(df[column])\n",
    "   # df.loc[mask, column] = np.nan\n"
   ]
  },
  {
   "cell_type": "code",
   "execution_count": 50,
   "id": "d7afd2db",
   "metadata": {},
   "outputs": [],
   "source": [
    "df.dropna(axis=0,inplace=True)"
   ]
  },
  {
   "cell_type": "code",
   "execution_count": 51,
   "id": "18d41ba8",
   "metadata": {},
   "outputs": [],
   "source": [
    "df['Average_waste_generation_per_State'] = df.groupby('State')['total_waste_generated'].transform('mean')"
   ]
  },
  {
   "cell_type": "code",
   "execution_count": 52,
   "id": "92293537",
   "metadata": {},
   "outputs": [
    {
     "name": "stdout",
     "output_type": "stream",
     "text": [
      "<class 'pandas.core.frame.DataFrame'>\n",
      "Int64Index: 491 entries, 1 to 769\n",
      "Data columns (total 20 columns):\n",
      " #   Column                                                    Non-Null Count  Dtype  \n",
      "---  ------                                                    --------------  -----  \n",
      " 0   ID                                                        491 non-null    object \n",
      " 1   Type_of_plant                                             491 non-null    object \n",
      " 2   Input_to_waste_treatment_plants                           491 non-null    float64\n",
      " 3   waste_generated_in_local_unit                             491 non-null    float64\n",
      " 4   Waste_delivered_from_domestic_territory                   491 non-null    float64\n",
      " 5   Wastes_delivered_from_abroad                              491 non-null    float64\n",
      " 6   Output_of_waste_treatment_plants                          491 non-null    float64\n",
      " 7   Disposed_of_waste                                         491 non-null    float64\n",
      " 8   Wastes_to_be_recoverd                                     491 non-null    float64\n",
      " 9   Distribution_to_other_plants_users_or_traders             491 non-null    float64\n",
      " 10  Waste_quantities_generated_by_primary_producers/1000tons  491 non-null    float64\n",
      " 11  Year                                                      491 non-null    float64\n",
      " 12  State                                                     491 non-null    object \n",
      " 13  Categories                                                491 non-null    object \n",
      " 14  Waste_Type                                                491 non-null    object \n",
      " 15  total_waste_generated                                     491 non-null    float64\n",
      " 16  waste_treatment_rate                                      491 non-null    float64\n",
      " 17  Total_recovered_materials                                 491 non-null    float64\n",
      " 18  electricity_generation_potential                          491 non-null    float64\n",
      " 19  Average_waste_generation_per_State                        491 non-null    float64\n",
      "dtypes: float64(15), object(5)\n",
      "memory usage: 80.6+ KB\n"
     ]
    }
   ],
   "source": [
    "df.info()"
   ]
  },
  {
   "cell_type": "code",
   "execution_count": 53,
   "id": "522a2d31",
   "metadata": {},
   "outputs": [],
   "source": [
    "df.drop(df[[\"Waste_quantities_generated_by_primary_producers/1000tons\",\"waste_generated_in_local_unit\",\"Input_to_waste_treatment_plants\",\"Output_of_waste_treatment_plants\",\"Wastes_to_be_recoverd\",\"Distribution_to_other_plants_users_or_traders\"]],axis=1,inplace=True)"
   ]
  },
  {
   "cell_type": "code",
   "execution_count": 54,
   "id": "ac2e3d97",
   "metadata": {},
   "outputs": [
    {
     "data": {
      "text/html": [
       "<div>\n",
       "<style scoped>\n",
       "    .dataframe tbody tr th:only-of-type {\n",
       "        vertical-align: middle;\n",
       "    }\n",
       "\n",
       "    .dataframe tbody tr th {\n",
       "        vertical-align: top;\n",
       "    }\n",
       "\n",
       "    .dataframe thead th {\n",
       "        text-align: right;\n",
       "    }\n",
       "</style>\n",
       "<table border=\"1\" class=\"dataframe\">\n",
       "  <thead>\n",
       "    <tr style=\"text-align: right;\">\n",
       "      <th></th>\n",
       "      <th>ID</th>\n",
       "      <th>Type_of_plant</th>\n",
       "      <th>Waste_delivered_from_domestic_territory</th>\n",
       "      <th>Wastes_delivered_from_abroad</th>\n",
       "      <th>Disposed_of_waste</th>\n",
       "      <th>Year</th>\n",
       "      <th>State</th>\n",
       "      <th>Categories</th>\n",
       "      <th>Waste_Type</th>\n",
       "      <th>total_waste_generated</th>\n",
       "      <th>waste_treatment_rate</th>\n",
       "      <th>Total_recovered_materials</th>\n",
       "      <th>electricity_generation_potential</th>\n",
       "      <th>Average_waste_generation_per_State</th>\n",
       "    </tr>\n",
       "  </thead>\n",
       "  <tbody>\n",
       "    <tr>\n",
       "      <th>1</th>\n",
       "      <td>EA-02</td>\n",
       "      <td>Thermal waste treatment plants</td>\n",
       "      <td>1785.6</td>\n",
       "      <td>31.5</td>\n",
       "      <td>17.1</td>\n",
       "      <td>2017.0</td>\n",
       "      <td>Baden-Württemberg</td>\n",
       "      <td>Manufacture of food products, beverages, tobacco</td>\n",
       "      <td>Wastes from agriculture,horticulture,forestry ...</td>\n",
       "      <td>3254.4</td>\n",
       "      <td>26.831502</td>\n",
       "      <td>480.9</td>\n",
       "      <td>240.45</td>\n",
       "      <td>10413.840541</td>\n",
       "    </tr>\n",
       "    <tr>\n",
       "      <th>2</th>\n",
       "      <td>EA-03</td>\n",
       "      <td>Combustion plants</td>\n",
       "      <td>1977.0</td>\n",
       "      <td>17.0</td>\n",
       "      <td>81.6</td>\n",
       "      <td>2017.0</td>\n",
       "      <td>Baden-Württemberg</td>\n",
       "      <td>Manufacture of food products, beverages, tobacco</td>\n",
       "      <td>Wastes from wood processing etc.</td>\n",
       "      <td>3488.9</td>\n",
       "      <td>7.369774</td>\n",
       "      <td>96.1</td>\n",
       "      <td>48.05</td>\n",
       "      <td>10413.840541</td>\n",
       "    </tr>\n",
       "    <tr>\n",
       "      <th>3</th>\n",
       "      <td>EA-04</td>\n",
       "      <td>Chemical-physical treatment plants</td>\n",
       "      <td>355.0</td>\n",
       "      <td>35.0</td>\n",
       "      <td>45.0</td>\n",
       "      <td>2017.0</td>\n",
       "      <td>Baden-Württemberg</td>\n",
       "      <td>Manufacture of food products, beverages, tobacco</td>\n",
       "      <td>Wastes from the leather, fur, textile industries</td>\n",
       "      <td>2055.0</td>\n",
       "      <td>53.636364</td>\n",
       "      <td>565.0</td>\n",
       "      <td>282.50</td>\n",
       "      <td>10413.840541</td>\n",
       "    </tr>\n",
       "    <tr>\n",
       "      <th>8</th>\n",
       "      <td>EA-09</td>\n",
       "      <td>Shredding plants and scrap shears</td>\n",
       "      <td>1949.9</td>\n",
       "      <td>108.0</td>\n",
       "      <td>0.3</td>\n",
       "      <td>2017.0</td>\n",
       "      <td>Baden-Württemberg</td>\n",
       "      <td>Manufacture of food products, beverages, tobacco</td>\n",
       "      <td>Wastes from the photographic industry</td>\n",
       "      <td>5127.3</td>\n",
       "      <td>100.802774</td>\n",
       "      <td>2121.9</td>\n",
       "      <td>1060.95</td>\n",
       "      <td>10413.840541</td>\n",
       "    </tr>\n",
       "    <tr>\n",
       "      <th>9</th>\n",
       "      <td>EA-10</td>\n",
       "      <td>Sorting plants</td>\n",
       "      <td>2333.9</td>\n",
       "      <td>212.8</td>\n",
       "      <td>8.2</td>\n",
       "      <td>2017.0</td>\n",
       "      <td>Baden-Württemberg</td>\n",
       "      <td>Manufacture of food products, beverages, tobacco</td>\n",
       "      <td>Wastes from surface treatment of metals a.plas...</td>\n",
       "      <td>6057.0</td>\n",
       "      <td>98.304172</td>\n",
       "      <td>2548.2</td>\n",
       "      <td>1274.10</td>\n",
       "      <td>10413.840541</td>\n",
       "    </tr>\n",
       "  </tbody>\n",
       "</table>\n",
       "</div>"
      ],
      "text/plain": [
       "      ID                       Type_of_plant  \\\n",
       "1  EA-02      Thermal waste treatment plants   \n",
       "2  EA-03                   Combustion plants   \n",
       "3  EA-04  Chemical-physical treatment plants   \n",
       "8  EA-09   Shredding plants and scrap shears   \n",
       "9  EA-10                      Sorting plants   \n",
       "\n",
       "   Waste_delivered_from_domestic_territory  Wastes_delivered_from_abroad  \\\n",
       "1                                   1785.6                          31.5   \n",
       "2                                   1977.0                          17.0   \n",
       "3                                    355.0                          35.0   \n",
       "8                                   1949.9                         108.0   \n",
       "9                                   2333.9                         212.8   \n",
       "\n",
       "   Disposed_of_waste    Year              State  \\\n",
       "1               17.1  2017.0  Baden-Württemberg   \n",
       "2               81.6  2017.0  Baden-Württemberg   \n",
       "3               45.0  2017.0  Baden-Württemberg   \n",
       "8                0.3  2017.0  Baden-Württemberg   \n",
       "9                8.2  2017.0  Baden-Württemberg   \n",
       "\n",
       "                                         Categories  \\\n",
       "1  Manufacture of food products, beverages, tobacco   \n",
       "2  Manufacture of food products, beverages, tobacco   \n",
       "3  Manufacture of food products, beverages, tobacco   \n",
       "8  Manufacture of food products, beverages, tobacco   \n",
       "9  Manufacture of food products, beverages, tobacco   \n",
       "\n",
       "                                          Waste_Type  total_waste_generated  \\\n",
       "1  Wastes from agriculture,horticulture,forestry ...                 3254.4   \n",
       "2                   Wastes from wood processing etc.                 3488.9   \n",
       "3   Wastes from the leather, fur, textile industries                 2055.0   \n",
       "8              Wastes from the photographic industry                 5127.3   \n",
       "9  Wastes from surface treatment of metals a.plas...                 6057.0   \n",
       "\n",
       "   waste_treatment_rate  Total_recovered_materials  \\\n",
       "1             26.831502                      480.9   \n",
       "2              7.369774                       96.1   \n",
       "3             53.636364                      565.0   \n",
       "8            100.802774                     2121.9   \n",
       "9             98.304172                     2548.2   \n",
       "\n",
       "   electricity_generation_potential  Average_waste_generation_per_State  \n",
       "1                            240.45                        10413.840541  \n",
       "2                             48.05                        10413.840541  \n",
       "3                            282.50                        10413.840541  \n",
       "8                           1060.95                        10413.840541  \n",
       "9                           1274.10                        10413.840541  "
      ]
     },
     "execution_count": 54,
     "metadata": {},
     "output_type": "execute_result"
    }
   ],
   "source": [
    "df.head(5)"
   ]
  },
  {
   "cell_type": "code",
   "execution_count": 55,
   "id": "b0ba60e5",
   "metadata": {},
   "outputs": [
    {
     "name": "stdout",
     "output_type": "stream",
     "text": [
      "<class 'pandas.core.frame.DataFrame'>\n",
      "Int64Index: 491 entries, 1 to 769\n",
      "Data columns (total 14 columns):\n",
      " #   Column                                   Non-Null Count  Dtype  \n",
      "---  ------                                   --------------  -----  \n",
      " 0   ID                                       491 non-null    object \n",
      " 1   Type_of_plant                            491 non-null    object \n",
      " 2   Waste_delivered_from_domestic_territory  491 non-null    float64\n",
      " 3   Wastes_delivered_from_abroad             491 non-null    float64\n",
      " 4   Disposed_of_waste                        491 non-null    float64\n",
      " 5   Year                                     491 non-null    float64\n",
      " 6   State                                    491 non-null    object \n",
      " 7   Categories                               491 non-null    object \n",
      " 8   Waste_Type                               491 non-null    object \n",
      " 9   total_waste_generated                    491 non-null    float64\n",
      " 10  waste_treatment_rate                     491 non-null    float64\n",
      " 11  Total_recovered_materials                491 non-null    float64\n",
      " 12  electricity_generation_potential         491 non-null    float64\n",
      " 13  Average_waste_generation_per_State       491 non-null    float64\n",
      "dtypes: float64(9), object(5)\n",
      "memory usage: 57.5+ KB\n"
     ]
    }
   ],
   "source": [
    "df.info()"
   ]
  },
  {
   "cell_type": "code",
   "execution_count": null,
   "id": "41499190",
   "metadata": {},
   "outputs": [],
   "source": []
  },
  {
   "cell_type": "code",
   "execution_count": 56,
   "id": "797fa7c7",
   "metadata": {},
   "outputs": [
    {
     "data": {
      "text/plain": [
       "array(['Manufacture of food products, beverages, tobacco',\n",
       "       'Textiles,textile products,leather,leather products',\n",
       "       'Manuf. of wood, products of wood and cork etc.',\n",
       "       'Manuf. of paper, paper products, recorded media',\n",
       "       'Manufacture of coke and refined petroleum products',\n",
       "       'Manufacture of chemicals and chemical products',\n",
       "       'Manuf. of basic pharmaceutical products and prep.',\n",
       "       'Manufacture of rubber and plastic products',\n",
       "       'Manufacture of other nonmetallic mineral products',\n",
       "       'Manuf. of fabricated metal products, ex. machinery',\n",
       "       'Manufacture of computer and electrical equipment',\n",
       "       'Manufacture of furniture and other manufacturing',\n",
       "       'Repair and installation of machinery and equipment',\n",
       "       'Electricity, gas, steam, air conditioning supply'], dtype=object)"
      ]
     },
     "execution_count": 56,
     "metadata": {},
     "output_type": "execute_result"
    }
   ],
   "source": [
    "df[\"Categories\"].unique()"
   ]
  },
  {
   "cell_type": "markdown",
   "id": "f657621e",
   "metadata": {},
   "source": [
    "## Now we will divide the categories into five distinct groups based on similar characterisitics.\n",
    "1) Food, Beverages, and Tobacco Manufacturing:\n",
    "\n",
    "- Manufacture of food products, beverages, tobacco\n",
    "\n",
    "2) Textile, Leather, and Paper Manufacturing:\n",
    "\n",
    "- Textiles, textile products, leather, leather products\n",
    "- Manuf. of wood, products of wood and cork etc.\n",
    "- Manuf. of paper, paper products, recorded media\n",
    "\n",
    "3) Chemical and Pharmaceutical Manufacturing:\n",
    "\n",
    "- Manufacture of coke and refined petroleum products\n",
    "- Manufacture of chemicals and chemical products\n",
    "- Manuf. of basic pharmaceutical products and prep.\n",
    "\n",
    "4) Plastics, Metals, and Other Manufacturing:\n",
    "\n",
    "- Manufacture of rubber and plastic products\n",
    "- Manufacture of other nonmetallic mineral products\n",
    "- Manuf. of fabricated metal products, ex. machinery\n",
    "- Manufacture of furniture and other manufacturing\n",
    "\n",
    "5) Machinery and Equipment Repair and Installation, and Electricity Supply:\n",
    "\n",
    "- Repair and installation of machinery and equipment\n",
    "- Electricity, gas, steam, air conditioning supply"
   ]
  },
  {
   "cell_type": "code",
   "execution_count": 57,
   "id": "4a025ac6",
   "metadata": {},
   "outputs": [],
   "source": [
    "import pandas as pd\n",
    "\n",
    "# create a dictionary that maps original categories to the five groups\n",
    "category_map = {\n",
    "    'Manufacture of food products, beverages, tobacco': 'Food, Beverages, and Tobacco Manufacturing',\n",
    "    'Textiles,textile products,leather,leather products': 'Textile, Leather, and Paper Manufacturing',\n",
    "    'Manuf. of wood, products of wood and cork etc.': 'Textile, Leather, and Paper Manufacturing',\n",
    "    'Manuf. of paper, paper products, recorded media': 'Textile, Leather, and Paper Manufacturing',\n",
    "    'Manufacture of coke and refined petroleum products': 'Chemical and Pharmaceutical Manufacturing',\n",
    "    'Manufacture of chemicals and chemical products': 'Chemical and Pharmaceutical Manufacturing',\n",
    "    'Manuf. of basic pharmaceutical products and prep.': 'Chemical and Pharmaceutical Manufacturing',\n",
    "    'Manufacture of rubber and plastic products': 'Plastics, Metals, and Other Manufacturing',\n",
    "    'Manufacture of other nonmetallic mineral products': 'Plastics, Metals, and Other Manufacturing',\n",
    "    'Manuf. of fabricated metal products, ex. machinery': 'Plastics, Metals, and Other Manufacturing',\n",
    "    'Manufacture of computer and electrical equipment': 'Plastics, Metals, and Other Manufacturing',\n",
    "    'Manufacture of furniture and other manufacturing': 'Plastics, Metals, and Other Manufacturing',\n",
    "    'Repair and installation of machinery and equipment': 'Machinery and Equipment Repair and Installation, and Electricity Supply',\n",
    "    'Electricity, gas, steam, air conditioning supply': 'Machinery and Equipment Repair and Installation, and Electricity Supply'\n",
    "}\n",
    "\n",
    "# create a new column 'category_group' based on the mapping\n",
    "df[\"Categories\"] = df[\"Categories\"].map(category_map)\n"
   ]
  },
  {
   "cell_type": "code",
   "execution_count": 58,
   "id": "05336853",
   "metadata": {},
   "outputs": [],
   "source": [
    "df[\"Categories\"].unique()\n",
    "category_map_further = {'Food, Beverages, and Tobacco Manufacturing': 'Food & Beverage Production',\n",
    "                'Textile, Leather, and Paper Manufacturing': \"Textile & Material Production\",\n",
    "                'Chemical and Pharmaceutical Manufacturing': 'Chemical & Pharma Production.',\n",
    "                'Plastics, Metals, and Other Manufacturing': 'Materials Manufacturing',\n",
    "                'Machinery and Equipment Repair and Installation, and Electricity Supply': 'Equipment Maintenance & Repair'}\n",
    "df[\"Categories\"] = df[\"Categories\"].map(category_map_further)"
   ]
  },
  {
   "cell_type": "code",
   "execution_count": 59,
   "id": "c6f212f4",
   "metadata": {},
   "outputs": [],
   "source": [
    "#category_mapping = {\"Manufacture of food products, beverages, tobacco\":\"Food, Beverages, Tobacco\",\n",
    "                    #\"Textiles, textile products, leather, leather products\":\"Textiles, Leather, Wood, Paper\",\n",
    "                   # \"Manuf. of wood, products of wood and cork etc.\":\"Textiles, Leather, Wood, Paper\",\n",
    "                   # \"Manuf. of paper, paper products, recorded media\":\"Textiles, Leather, Wood, Paper\",\n",
    "                  #  \"Manufacture of coke and refined petroleum products\":\"Petroleum, Chemicals, Pharmaceuticals, Plastics\",\n",
    "                  #  \"Manufacture of chemicals and chemical products\":\"Petroleum, Chemicals, Pharmaceuticals, Plastics\",\n",
    "                  #  \"Manuf. of basic pharmaceutical products and prep.\":\"Petroleum, Chemicals, Pharmaceuticals, Plastics\",\n",
    "                  # \"Manufacture of rubber and plastic products\":\"Metal Products, Electrical Equipment, Furniture\",\n",
    "                   # \"Manufacture of other nonmetallic mineral products\":\"Metal Products, Electrical Equipment, Furniture\",\n",
    "                   # \"Manuf. of fabricated metal products, ex. machinery\":\"Metal Products, Electrical Equipment, Furniture\",\n",
    "                  #  \"Manufacture of furniture and other manufacturing\":\"Metal Products, Electrical Equipment, Furniture\",\n",
    "                   # \"Repair and installation of machinery and equipment\":\"Machinery, Installation, Electricity Supply\",\n",
    "                   # \"Electricity, gas, steam, air conditioning supply\":\"Machinery, Installation, Electricity Supply\"}\n",
    "\n",
    "#df[\"Categories\"] = df[\"Categories\"].map(category_mapping)\n"
   ]
  },
  {
   "cell_type": "code",
   "execution_count": 60,
   "id": "dbd81f67",
   "metadata": {},
   "outputs": [
    {
     "data": {
      "text/plain": [
       "array(['Thermal waste treatment plants', 'Combustion plants',\n",
       "       'Chemical-physical treatment plants',\n",
       "       'Shredding plants and scrap shears', 'Sorting plants',\n",
       "       'Dismantling facilities', 'Landfills',\n",
       "       'Wastes at surface extraction sites', 'Other treatment plants',\n",
       "       'Natural substances produced in mining',\n",
       "       'Wastes at underground extraction sites', 'Soil treatment plants',\n",
       "       'Dismantling facilities for end-of-life vehicles',\n",
       "       'Biological treatment plants',\n",
       "       'Mechanical-biological waste treatment plants'], dtype=object)"
      ]
     },
     "execution_count": 60,
     "metadata": {},
     "output_type": "execute_result"
    }
   ],
   "source": [
    "df[\"Type_of_plant\"].unique()"
   ]
  },
  {
   "cell_type": "markdown",
   "id": "f10e42fe",
   "metadata": {},
   "source": [
    "# Similarly we would categorize the type of plants into different categories based on their similar features:\n",
    "\n",
    "1) Thermal/Combustion Plants: \n",
    " - Thermal waste treatment plants\n",
    " - Combustion plants\n",
    " \n",
    "2) Chemical/Physical Treatment Plants:\n",
    " - Chemical-physical treatment plants\n",
    " \n",
    "3) Recycling/Sorting Plants:\n",
    " - Shredding plants and scrap shears\n",
    " - Sorting plants\n",
    " - Dismantling facilities\n",
    " - Dismantling facilities for end-of-life vehicles\n",
    " \n",
    "4) Landfills/Disposal Sites:\n",
    " - Landfills\n",
    " - Wastes at surface extraction sites\n",
    " - Other treatment plants\n",
    " - Natural substances produced in mining\n",
    " - Wastes at underground extraction sites\n",
    " - Soil treatment plants\n",
    " \n",
    "5) Biological/Mechanical Treatment Plants\n",
    " - Biological treatment plants\n",
    " - Mechanical-biological waste treatment plants"
   ]
  },
  {
   "cell_type": "code",
   "execution_count": 61,
   "id": "415fddbe",
   "metadata": {},
   "outputs": [],
   "source": [
    "df['Type_of_plant'] = df['Type_of_plant'].replace(['Thermal waste treatment plants', 'Combustion plants'], 'Thermal/Combustion Plants')\n",
    "df['Type_of_plant'] = df['Type_of_plant'].replace('Chemical-physical treatment plants', 'Chemical/Physical Treatment Plants')\n",
    "df['Type_of_plant'] = df['Type_of_plant'].replace(['Shredding plants and scrap shears', 'Sorting plants', 'Dismantling facilities', 'Dismantling facilities for end-of-life vehicles'], 'Recycling/Sorting Plants')\n",
    "df['Type_of_plant'] = df['Type_of_plant'].replace(['Landfills', 'Wastes at surface extraction sites', 'Other treatment plants', 'Natural substances produced in mining', 'Wastes at underground extraction sites', 'Soil treatment plants'], 'Landfills/Disposal Sites')\n",
    "df['Type_of_plant'] = df['Type_of_plant'].replace(['Biological treatment plants', 'Mechanical-biological waste treatment plants'], 'Biological/Mechanical Treatment Plants')"
   ]
  },
  {
   "cell_type": "code",
   "execution_count": 62,
   "id": "12e6cdd3",
   "metadata": {},
   "outputs": [
    {
     "data": {
      "text/plain": [
       "array(['Wastes from agriculture,horticulture,forestry etc.',\n",
       "       'Wastes from wood processing etc.',\n",
       "       'Wastes from the leather, fur, textile industries',\n",
       "       'Wastes from the photographic industry',\n",
       "       'Wastes from surface treatment of metals a.plastics',\n",
       "       'Waste organic solvents, refrigerants, propellants',\n",
       "       'Municipal wastes (household waste, similar wastes)',\n",
       "       'Wastes resulting from expl., mining of minerals',\n",
       "       'Wastes from organic chemical processes',\n",
       "       'Wastes from the MFSU of coatings, adhesives etc.',\n",
       "       'Wastes from human or animal health care',\n",
       "       'Wastes from waste management facilities etc.',\n",
       "       'Wastes from petrol. refining, natural gas purific.',\n",
       "       'Wastes from inorganic chemical processes'], dtype=object)"
      ]
     },
     "execution_count": 62,
     "metadata": {},
     "output_type": "execute_result"
    }
   ],
   "source": [
    "df[\"Waste_Type\"].unique()"
   ]
  },
  {
   "cell_type": "markdown",
   "id": "767cda8e",
   "metadata": {},
   "source": [
    "# Types of Wastes\n",
    "We would also categorized the type of wastes based on which waste can be used in which type to produce\n",
    "electricity. Here are the categories:\n",
    "\n",
    "1) Biogas Wastes: \n",
    "    \n",
    "    -Wastes from agriculture,horticulture,forestry etc.\n",
    "\n",
    "2) Biomass: \n",
    "\n",
    "    -Wastes from wood processing etc.\n",
    "\n",
    "3) Industrial waste:\n",
    "\n",
    "\n",
    "    -Wastes from the leather, fur, textile industries \n",
    "    -Wastes from the photographic industry\n",
    "    -Wastes from surface treatment of metals a.plastics \n",
    "    -Wastes from organic chemical processes\n",
    "    -Wastes from the MFSU of coatings, adhesives etc.\n",
    "    -Wastes from petrol. refining, natural gas purific. \n",
    "    -Wastes from inorganic chemical processes\n",
    "\n",
    "4) Municipal solid waste:\n",
    "\n",
    "    -Municipal wastes (household waste, similar wastes)\n",
    "\n",
    "5) Hazardous waste:\n",
    "\n",
    "    -Waste organic solvents, refrigerants, propellants\n",
    "    -Wastes resulting from expl., mining of minerals\n",
    "    -Wastes from human or animal health care\n",
    "    -Wastes from waste management facilities etc."
   ]
  },
  {
   "cell_type": "code",
   "execution_count": 63,
   "id": "b8914af8",
   "metadata": {},
   "outputs": [],
   "source": [
    "# Define a dictionary to map waste types to categories\n",
    "waste_types = {\n",
    "    'Wastes from agriculture,horticulture,forestry etc.': 'Biogas Waste',\n",
    "    'Wastes from wood processing etc.': 'Biomass Waste',\n",
    "    'Wastes from the leather, fur, textile industries': 'Textile and leather waste',\n",
    "    'Wastes from the photographic industry': 'Industrial waste',\n",
    "    'Wastes from surface treatment of metals a.plastics': 'Industrial waste',\n",
    "    'Waste organic solvents, refrigerants, propellants': 'Hazardous waste',\n",
    "    'Municipal wastes (household waste, similar wastes)': 'Municipal solid waste',\n",
    "    'Wastes resulting from expl., mining of minerals': 'Hazardous waste',\n",
    "    'Wastes from organic chemical processes': 'Industrial waste',\n",
    "    'Wastes from the MFSU of coatings, adhesives etc.': 'Industrial waste',\n",
    "    'Wastes from human or animal health care': 'Hazardous waste',\n",
    "    'Wastes from waste management facilities etc.': 'Municipal solid waste',\n",
    "    'Wastes from petrol. refining, natural gas purific.': 'Industrial waste',\n",
    "    'Wastes from inorganic chemical processes': 'Industrial waste'\n",
    "}\n",
    "\n",
    "# Map waste types to categories and create a new column in the dataframe\n",
    "df['Waste_Type'] = df['Waste_Type'].map(waste_types)\n"
   ]
  },
  {
   "cell_type": "code",
   "execution_count": 64,
   "id": "097a472b",
   "metadata": {},
   "outputs": [],
   "source": [
    "df['Year'] = df['Year'].astype(int)"
   ]
  },
  {
   "cell_type": "code",
   "execution_count": 65,
   "id": "160816f2",
   "metadata": {},
   "outputs": [],
   "source": [
    "df['State'] = df['State'].replace({\n",
    "    'Nidersachsen': 'Niedersachsen',\n",
    "    'Saschsen': 'Sachsen',\n",
    "    'Saschsen-Anhalt': 'Sachsen-Anhalt',\n",
    "    'Thüringen': 'Thuringen'\n",
    "})\n"
   ]
  },
  {
   "cell_type": "code",
   "execution_count": 66,
   "id": "0291ea06",
   "metadata": {},
   "outputs": [
    {
     "data": {
      "text/plain": [
       "array(['Biogas Waste', 'Biomass Waste', 'Textile and leather waste',\n",
       "       'Industrial waste', 'Hazardous waste', 'Municipal solid waste'],\n",
       "      dtype=object)"
      ]
     },
     "execution_count": 66,
     "metadata": {},
     "output_type": "execute_result"
    }
   ],
   "source": [
    "df[\"Waste_Type\"].unique()"
   ]
  },
  {
   "cell_type": "code",
   "execution_count": 67,
   "id": "09803b88",
   "metadata": {},
   "outputs": [],
   "source": [
    "df.to_excel(\"Waste_Energy_Analysis.xlsx\")"
   ]
  },
  {
   "cell_type": "code",
   "execution_count": 68,
   "id": "1ddf08dc",
   "metadata": {},
   "outputs": [
    {
     "data": {
      "image/png": "[encoded data removed]",
      "text/plain": [
       "<Figure size 1152x1728 with 8 Axes>"
      ]
     },
     "metadata": {
      "needs_background": "light"
     },
     "output_type": "display_data"
    }
   ],
   "source": [
    "import warnings\n",
    "\n",
    "with warnings.catch_warnings():\n",
    "    warnings.simplefilter(\"ignore\")\n",
    "\n",
    "    # select numerical columns to plot\n",
    "    numerical_cols = df.select_dtypes(include=['float64']).columns.tolist()\n",
    "\n",
    "    # remove 'Year' and 'Type_of_plant' from the list\n",
    "    #numerical_cols.remove('Year')\n",
    "    #numerical_cols.remove('Type_of_plant')\n",
    "\n",
    "    # set up the subplots\n",
    "    n_rows = (len(numerical_cols) + 1) // 2\n",
    "    fig, axes = plt.subplots(n_rows, 2, figsize=(16, 6 * n_rows))\n",
    "    axes = axes.flatten()\n",
    "\n",
    "    # loop over numerical columns and plot the distplot\n",
    "    for i, col in enumerate(numerical_cols):\n",
    "        sns.distplot(df[col], ax=axes[i])\n",
    "        axes[i].set_title(col)\n",
    "\n",
    "    # remove any unused axes\n",
    "    for ax in axes[len(numerical_cols):]:\n",
    "        ax.remove()\n",
    "\n",
    "    # adjust the layout of subplots\n",
    "    plt.tight_layout()\n",
    "\n",
    "    # show the plot\n",
    "    plt.show()\n"
   ]
  },
  {
   "cell_type": "code",
   "execution_count": 69,
   "id": "64a95ab0",
   "metadata": {},
   "outputs": [],
   "source": [
    "#from sklearn.preprocessing import MinMaxScaler\n",
    "\n",
    "#Select only numerical columns for normalization\n",
    "#numeric_cols = df.select_dtypes(include=['float64']).columns.tolist()\n",
    "\n",
    "# Perform MinMax scaling on selected columns\n",
    "#scaler = MinMaxScaler()\n",
    "#df[numeric_cols] = scaler.fit_transform(df[numeric_cols])\n",
    "\n",
    "# View normalized DataFrame\n",
    "#print(df.head())\n"
   ]
  },
  {
   "cell_type": "code",
   "execution_count": 70,
   "id": "dde21d1e",
   "metadata": {},
   "outputs": [],
   "source": [
    "#from sklearn.preprocessing import FunctionTransformer\n",
    "#import numpy as np\n",
    "\n",
    "# Select only numerical columns for normalization\n",
    "#numeric_cols = df.select_dtypes(include=['float64']).columns.tolist()\n",
    "\n",
    "# Perform log transform on selected columns\n",
    "#transformer = FunctionTransformer(np.log1p, validate=True)\n",
    "#df[numeric_cols] = transformer.transform(df[numeric_cols])\n",
    "\n",
    "# View transformed DataFrame\n",
    "#print(df.head())"
   ]
  },
  {
   "cell_type": "code",
   "execution_count": 71,
   "id": "ef702936",
   "metadata": {},
   "outputs": [],
   "source": [
    "#from scipy import stats\n",
    "\n",
    "# Select only numerical columns for Box-Cox transformation\n",
    "#numeric_cols = df.select_dtypes(include=['float64']).columns.tolist()\n",
    "\n",
    "# Perform Box-Cox transformation on selected columns\n",
    "#for col in numeric_cols:\n",
    "    # Check if the column contains only positive values\n",
    "     #  if df[col].min() > 0:\n",
    "      #         df[col], _ = stats.boxcox(df[col])\n",
    "#else:\n",
    "    # Add a small positive constant to the column to make it positive\n",
    "    #df[col], _ = stats.boxcox(df[col] + 0.0001)"
   ]
  },
  {
   "cell_type": "code",
   "execution_count": 72,
   "id": "fcb13f92",
   "metadata": {},
   "outputs": [],
   "source": [
    "#import pandas as pd\n",
    "from sklearn.preprocessing import PowerTransformer\n",
    "\n",
    "# Select only the numerical columns for transformation\n",
    "numerical_cols = df.select_dtypes(include=['float64']).columns.tolist()\n",
    "\n",
    "# Perform Yeo-Johnson transformation on the numerical columns\n",
    "pt = PowerTransformer(method='yeo-johnson', standardize=True)\n",
    "df[numerical_cols] = pt.fit_transform(df[numerical_cols])"
   ]
  },
  {
   "cell_type": "code",
   "execution_count": 73,
   "id": "a43e59a3",
   "metadata": {},
   "outputs": [],
   "source": [
    "#from sklearn.preprocessing import StandardScaler\n",
    "\n",
    "# Select only numerical columns for normalization\n",
    "#numeric_cols = df.select_dtypes(include=['float64']).columns.tolist()\n",
    "\n",
    "# Perform RobustScaler normalization on selected columns\n",
    "#scaler = StandardScaler()\n",
    "#df[numeric_cols] = scaler.fit_transform(df[numeric_cols])\n",
    "\n",
    "# View normalized DataFrame\n",
    "#print(df.head())"
   ]
  },
  {
   "cell_type": "code",
   "execution_count": 74,
   "id": "c8fe1a90",
   "metadata": {},
   "outputs": [
    {
     "data": {
      "image/png": "[encoded data removed]",
      "text/plain": [
       "<Figure size 1152x1728 with 8 Axes>"
      ]
     },
     "metadata": {
      "needs_background": "light"
     },
     "output_type": "display_data"
    }
   ],
   "source": [
    "import warnings\n",
    "\n",
    "with warnings.catch_warnings():\n",
    "    warnings.simplefilter(\"ignore\")\n",
    "\n",
    "    # select numerical columns to plot\n",
    "    numerical_cols = df.select_dtypes(include=['float64']).columns.tolist()\n",
    "\n",
    "    # remove 'Year' and 'Type_of_plant' from the list\n",
    "    #numerical_cols.remove('Year')\n",
    "    #numerical_cols.remove('Type_of_plant')\n",
    "\n",
    "    # set up the subplots\n",
    "    n_rows = (len(numerical_cols) + 1) // 2\n",
    "    fig, axes = plt.subplots(n_rows, 2, figsize=(16, 6 * n_rows))\n",
    "    axes = axes.flatten()\n",
    "\n",
    "    # loop over numerical columns and plot the distplot\n",
    "    for i, col in enumerate(numerical_cols):\n",
    "        sns.distplot(df[col], ax=axes[i],kde=True,hist=True)\n",
    "        axes[i].set_title(col)\n",
    "\n",
    "    # remove any unused axes\n",
    "    for ax in axes[len(numerical_cols):]:\n",
    "        ax.remove()\n",
    "\n",
    "    # adjust the layout of subplots\n",
    "    plt.tight_layout()\n",
    "\n",
    "    # show the plot\n",
    "    plt.show()\n"
   ]
  },
  {
   "cell_type": "code",
   "execution_count": 75,
   "id": "c89d684c",
   "metadata": {
    "scrolled": true
   },
   "outputs": [
    {
     "data": {
      "image/png": "[encoded data removed]",
      "text/plain": [
       "<Figure size 1152x1728 with 8 Axes>"
      ]
     },
     "metadata": {
      "needs_background": "light"
     },
     "output_type": "display_data"
    }
   ],
   "source": [
    "import warnings\n",
    "import matplotlib.pyplot as plt\n",
    "import seaborn as sns\n",
    "\n",
    "with warnings.catch_warnings():\n",
    "    warnings.simplefilter(\"ignore\")\n",
    "\n",
    "    # select numerical columns to plot\n",
    "    numerical_cols = df.select_dtypes(include=['float64']).columns.tolist()\n",
    "\n",
    "    # remove 'Year' and 'Type_of_plant' from the list\n",
    "    #numerical_cols.remove('Year')\n",
    "    #numerical_cols.remove('Type_of_plant')\n",
    "\n",
    "    # set up the subplots\n",
    "    n_rows = (len(numerical_cols) + 1) // 2\n",
    "    fig, axes = plt.subplots(n_rows, 2, figsize=(16, 6 * n_rows))\n",
    "    axes = axes.flatten()\n",
    "\n",
    "    # loop over numerical columns and plot the boxplot\n",
    "    for i, col in enumerate(numerical_cols):\n",
    "        sns.boxplot(x=df[col], ax=axes[i])\n",
    "        axes[i].set_title(col)\n",
    "\n",
    "    # remove any unused axes\n",
    "    for ax in axes[len(numerical_cols):]:\n",
    "        ax.remove()\n",
    "\n",
    "    # adjust the layout of subplots\n",
    "    plt.tight_layout()\n",
    "\n",
    "    # show the plot\n",
    "    plt.show()\n"
   ]
  },
  {
   "cell_type": "code",
   "execution_count": 76,
   "id": "31a343f2",
   "metadata": {},
   "outputs": [],
   "source": [
    "#numeric_cols = df.select_dtypes(include='number').columns.tolist()\n",
    "#df[numeric_cols] = df[numeric_cols].abs()"
   ]
  },
  {
   "cell_type": "code",
   "execution_count": 77,
   "id": "ebc03535",
   "metadata": {},
   "outputs": [
    {
     "name": "stdout",
     "output_type": "stream",
     "text": [
      "<class 'pandas.core.frame.DataFrame'>\n",
      "Int64Index: 491 entries, 1 to 769\n",
      "Data columns (total 14 columns):\n",
      " #   Column                                   Non-Null Count  Dtype  \n",
      "---  ------                                   --------------  -----  \n",
      " 0   ID                                       491 non-null    object \n",
      " 1   Type_of_plant                            491 non-null    object \n",
      " 2   Waste_delivered_from_domestic_territory  491 non-null    float64\n",
      " 3   Wastes_delivered_from_abroad             491 non-null    float64\n",
      " 4   Disposed_of_waste                        491 non-null    float64\n",
      " 5   Year                                     491 non-null    int32  \n",
      " 6   State                                    491 non-null    object \n",
      " 7   Categories                               491 non-null    object \n",
      " 8   Waste_Type                               491 non-null    object \n",
      " 9   total_waste_generated                    491 non-null    float64\n",
      " 10  waste_treatment_rate                     491 non-null    float64\n",
      " 11  Total_recovered_materials                491 non-null    float64\n",
      " 12  electricity_generation_potential         491 non-null    float64\n",
      " 13  Average_waste_generation_per_State       491 non-null    float64\n",
      "dtypes: float64(8), int32(1), object(5)\n",
      "memory usage: 55.6+ KB\n"
     ]
    }
   ],
   "source": [
    "df.info()"
   ]
  },
  {
   "cell_type": "code",
   "execution_count": 78,
   "id": "87586a24",
   "metadata": {},
   "outputs": [
    {
     "data": {
      "text/plain": [
       "<AxesSubplot:>"
      ]
     },
     "execution_count": 78,
     "metadata": {},
     "output_type": "execute_result"
    },
    {
     "data": {
      "image/png": "[encoded data removed]",
      "text/plain": [
       "<Figure size 864x504 with 1 Axes>"
      ]
     },
     "metadata": {
      "needs_background": "light"
     },
     "output_type": "display_data"
    }
   ],
   "source": [
    "plt.figure(figsize=(12,7))\n",
    "corr=df.drop(df[[\"total_waste_generated\",\"Year\"]],axis=1).corrwith(df[\"total_waste_generated\"],method=\"kendall\")\n",
    "corr.plot(kind=\"bar\")"
   ]
  },
  {
   "cell_type": "code",
   "execution_count": 79,
   "id": "9be35870",
   "metadata": {},
   "outputs": [
    {
     "data": {
      "text/plain": [
       "5.562992316422388"
      ]
     },
     "execution_count": 79,
     "metadata": {},
     "output_type": "execute_result"
    }
   ],
   "source": [
    "df[\"waste_treatment_rate\"].max()"
   ]
  },
  {
   "cell_type": "code",
   "execution_count": 80,
   "id": "86808936",
   "metadata": {},
   "outputs": [
    {
     "name": "stdout",
     "output_type": "stream",
     "text": [
      "[ 5.65110456e-01  2.50521514e-02 -1.06036783e-02  4.38501530e-03\n",
      " -2.52616080e+01  2.52270852e+01  9.94195282e-02]\n"
     ]
    }
   ],
   "source": [
    "from sklearn.linear_model import LinearRegression\n",
    "from sklearn.model_selection import train_test_split\n",
    "\n",
    "X =df.drop(df[[\"total_waste_generated\",\"ID\",\"Categories\",\"Type_of_plant\",\"State\",\"Year\",\"Waste_Type\"]],axis=1)\n",
    "y = df[\"total_waste_generated\"]\n",
    "\n",
    "X_train, X_test, y_train, y_test = train_test_split(X, y, test_size=0.3, random_state=0)\n",
    "model = LinearRegression()\n",
    "model.fit(X_train, y_train)\n",
    "print(model.coef_)"
   ]
  },
  {
   "cell_type": "code",
   "execution_count": 81,
   "id": "a305102f",
   "metadata": {},
   "outputs": [],
   "source": [
    "y_pred = model.predict(X_test)"
   ]
  },
  {
   "cell_type": "code",
   "execution_count": 82,
   "id": "3260eb66",
   "metadata": {},
   "outputs": [
    {
     "data": {
      "text/plain": [
       "array([-0.01769042, -1.10624775, -0.11747729,  1.12494297, -1.15889137,\n",
       "       -0.42709607,  0.78130248, -0.57621594, -1.72230978, -0.01769042,\n",
       "       -0.24646168,  0.01362808, -0.00300149, -1.00210587,  0.64704973,\n",
       "       -0.24646168,  0.35078817,  0.42587659,  0.8655007 , -1.05446323,\n",
       "       -0.37763118,  0.45965564,  0.63139665, -0.77303782,  0.97054287,\n",
       "        0.25917182, -0.36534734,  0.57944825, -0.26577376,  0.3210871 ,\n",
       "       -0.11126349,  0.66734948, -0.17507862, -0.10429986, -0.01517206,\n",
       "        0.03982851, -0.85729592, -0.04123836, -1.19979208, -1.27355707,\n",
       "        0.43155545,  0.32192346,  0.7843739 , -0.23661418, -0.15025397,\n",
       "        0.01849852, -0.24994203,  0.03982851, -0.11126349, -0.2299327 ,\n",
       "       -0.76628199, -0.01769042, -0.01769042,  0.63554654,  0.45192393,\n",
       "       -0.11126349, -1.26233297,  0.09179504, -0.60935016,  0.28746268,\n",
       "       -0.59631703,  0.55690602, -0.26577376, -0.00681971,  0.16349694,\n",
       "       -0.11418932, -0.01769042,  0.01362808, -0.11747729, -0.24198155,\n",
       "       -0.11126349,  0.52429614, -1.06268798, -0.17507862, -0.01769042,\n",
       "       -0.11418932, -0.1878857 ,  0.32970493, -0.76149249,  0.43681958,\n",
       "       -0.51255138, -0.95131447, -0.26577376,  0.28446815,  0.15721853,\n",
       "       -0.00300149, -0.26577376, -0.26577376, -0.27036107,  0.63823605,\n",
       "        1.09302802,  0.12214968,  0.03982851, -0.42177443,  0.54531894,\n",
       "       -0.05520486,  0.6298662 ,  0.01362808,  0.67616075, -0.17507862,\n",
       "        0.30882591,  0.27074755, -0.10429986, -0.71792184, -0.16309636,\n",
       "       -0.11747729, -0.72755783, -0.01769042,  1.20307214, -0.11126349,\n",
       "       -0.00300149,  0.17981675, -0.01769042, -0.10429986, -0.51131274,\n",
       "        0.33899527, -0.27036107, -0.10429986, -0.11747729, -0.16929463,\n",
       "        0.21342831, -0.11126349,  0.20273826,  0.01362808,  0.04310833,\n",
       "       -0.59474425,  0.17175304, -0.26577376, -0.28904411, -1.15491207,\n",
       "       -0.89078788,  1.08658496, -0.28833377,  0.267917  ,  1.12383478,\n",
       "        0.59585038, -0.11126349, -0.11418932, -1.07763978,  1.12346175,\n",
       "       -0.94826903, -0.38331766,  0.01849852, -0.2308676 ,  0.32017661,\n",
       "        0.49472808, -0.17507862, -0.28678693])"
      ]
     },
     "execution_count": 82,
     "metadata": {},
     "output_type": "execute_result"
    }
   ],
   "source": [
    "y_pred"
   ]
  },
  {
   "cell_type": "code",
   "execution_count": 83,
   "id": "4a5eee63",
   "metadata": {},
   "outputs": [
    {
     "name": "stdout",
     "output_type": "stream",
     "text": [
      "0.895844578701853\n"
     ]
    }
   ],
   "source": [
    "mse = np.mean((y_pred - y_test)**2)\n",
    "print(mse)"
   ]
  },
  {
   "cell_type": "code",
   "execution_count": 84,
   "id": "20807864",
   "metadata": {},
   "outputs": [
    {
     "data": {
      "image/png": "[encoded data removed]",
      "text/plain": [
       "<Figure size 432x288 with 1 Axes>"
      ]
     },
     "metadata": {
      "needs_background": "light"
     },
     "output_type": "display_data"
    }
   ],
   "source": [
    "plt.scatter(y_test, y_pred)\n",
    "plt.xlabel('Actual Values')\n",
    "plt.ylabel('Predicted Values')\n",
    "plt.show()"
   ]
  },
  {
   "cell_type": "code",
   "execution_count": 85,
   "id": "54ff79aa",
   "metadata": {},
   "outputs": [
    {
     "data": {
      "text/plain": [
       "0.18865143053304267"
      ]
     },
     "execution_count": 85,
     "metadata": {},
     "output_type": "execute_result"
    }
   ],
   "source": [
    "from sklearn.metrics import r2_score\n",
    "r2_score(y_test, y_pred)"
   ]
  },
  {
   "cell_type": "code",
   "execution_count": 86,
   "id": "0c8037b2",
   "metadata": {},
   "outputs": [],
   "source": [
    "coef_df = pd.DataFrame({'feature_name': X.columns, 'coefficient': model.coef_})"
   ]
  },
  {
   "cell_type": "code",
   "execution_count": 87,
   "id": "d21e2b8c",
   "metadata": {},
   "outputs": [
    {
     "data": {
      "text/html": [
       "<div>\n",
       "<style scoped>\n",
       "    .dataframe tbody tr th:only-of-type {\n",
       "        vertical-align: middle;\n",
       "    }\n",
       "\n",
       "    .dataframe tbody tr th {\n",
       "        vertical-align: top;\n",
       "    }\n",
       "\n",
       "    .dataframe thead th {\n",
       "        text-align: right;\n",
       "    }\n",
       "</style>\n",
       "<table border=\"1\" class=\"dataframe\">\n",
       "  <thead>\n",
       "    <tr style=\"text-align: right;\">\n",
       "      <th></th>\n",
       "      <th>feature_name</th>\n",
       "      <th>coefficient</th>\n",
       "    </tr>\n",
       "  </thead>\n",
       "  <tbody>\n",
       "    <tr>\n",
       "      <th>0</th>\n",
       "      <td>Waste_delivered_from_domestic_territory</td>\n",
       "      <td>0.565110</td>\n",
       "    </tr>\n",
       "    <tr>\n",
       "      <th>1</th>\n",
       "      <td>Wastes_delivered_from_abroad</td>\n",
       "      <td>0.025052</td>\n",
       "    </tr>\n",
       "    <tr>\n",
       "      <th>2</th>\n",
       "      <td>Disposed_of_waste</td>\n",
       "      <td>-0.010604</td>\n",
       "    </tr>\n",
       "    <tr>\n",
       "      <th>3</th>\n",
       "      <td>waste_treatment_rate</td>\n",
       "      <td>0.004385</td>\n",
       "    </tr>\n",
       "    <tr>\n",
       "      <th>4</th>\n",
       "      <td>Total_recovered_materials</td>\n",
       "      <td>-25.261608</td>\n",
       "    </tr>\n",
       "    <tr>\n",
       "      <th>5</th>\n",
       "      <td>electricity_generation_potential</td>\n",
       "      <td>25.227085</td>\n",
       "    </tr>\n",
       "    <tr>\n",
       "      <th>6</th>\n",
       "      <td>Average_waste_generation_per_State</td>\n",
       "      <td>0.099420</td>\n",
       "    </tr>\n",
       "  </tbody>\n",
       "</table>\n",
       "</div>"
      ],
      "text/plain": [
       "                              feature_name  coefficient\n",
       "0  Waste_delivered_from_domestic_territory     0.565110\n",
       "1             Wastes_delivered_from_abroad     0.025052\n",
       "2                        Disposed_of_waste    -0.010604\n",
       "3                     waste_treatment_rate     0.004385\n",
       "4                Total_recovered_materials   -25.261608\n",
       "5         electricity_generation_potential    25.227085\n",
       "6       Average_waste_generation_per_State     0.099420"
      ]
     },
     "execution_count": 87,
     "metadata": {},
     "output_type": "execute_result"
    }
   ],
   "source": [
    "coef_df"
   ]
  },
  {
   "cell_type": "code",
   "execution_count": 88,
   "id": "fd823cee",
   "metadata": {},
   "outputs": [
    {
     "data": {
      "image/png": "[encoded data removed]",
      "text/plain": [
       "<Figure size 432x288 with 1 Axes>"
      ]
     },
     "metadata": {
      "needs_background": "light"
     },
     "output_type": "display_data"
    }
   ],
   "source": [
    "import matplotlib.pyplot as plt\n",
    "import pandas as pd\n",
    "\n",
    "# Create a dictionary of feature coefficients\n",
    "coef_dict = {\n",
    "    \"Input_to_waste_treatment_plants\": 0.006245,\n",
    "    \"Waste_delivered_from_domestic_territory\": 0.054712,\n",
    "    \"Wastes_delivered_from_abroad\": 0.001061,\n",
    "    \"Output_of_waste_treatment_plants\": 0.002272,\n",
    "    \"Disposed_of_waste\": -0.001620,\n",
    "    \"Wastes_to_be_recovered\": 0.004440,\n",
    "    \"Distribution_to_other_plants_users_or_traders\": 0.002041,\n",
    "    \"Total_waste_delivered\": -0.065067,\n",
    "    \"waste_treatment_rate\": -0.090413,\n",
    "    \"output_of_recovered_materials\": -204166.125461,\n",
    "    \"electricity_generation_potential\": 250836.951121,\n",
    "    \"Average_waste_generation_per_year\": 0.000393\n",
    "}\n",
    "# Create a pandas DataFrame from the dictionary\n",
    "coef_df = pd.DataFrame.from_dict(coef_dict, orient='index', columns=['Coefficient'])\n",
    "\n",
    "# Sort the DataFrame by the coefficient values\n",
    "coef_df = coef_df.sort_values(by='Coefficient')\n",
    "\n",
    "# Create a horizontal bar plot\n",
    "fig, ax = plt.subplots()\n",
    "ax.barh(y=coef_df.index, width=coef_df['Coefficient'], color='y')\n",
    "\n",
    "# Set the axis labels and title\n",
    "ax.set_xlabel('Coefficient')\n",
    "ax.set_ylabel('Feature')\n",
    "ax.set_title('Feature Coefficients')\n",
    "\n",
    "# Set the x-axis limits to zoom in on the coefficients with larger absolute values\n",
    "plt.xlim([-0.001, 0.007])\n",
    "\n",
    "# Show the plot\n",
    "plt.show()\n"
   ]
  },
  {
   "cell_type": "code",
   "execution_count": 89,
   "id": "6359e6bb",
   "metadata": {},
   "outputs": [
    {
     "data": {
      "text/plain": [
       "RandomForestRegressor(bootstrap=True, ccp_alpha=0.0, criterion='mse',\n",
       "                      max_depth=None, max_features='auto', max_leaf_nodes=None,\n",
       "                      max_samples=None, min_impurity_decrease=0.0,\n",
       "                      min_impurity_split=None, min_samples_leaf=1,\n",
       "                      min_samples_split=2, min_weight_fraction_leaf=0.0,\n",
       "                      n_estimators=110, n_jobs=None, oob_score=False,\n",
       "                      random_state=None, verbose=0, warm_start=False)"
      ]
     },
     "execution_count": 89,
     "metadata": {},
     "output_type": "execute_result"
    }
   ],
   "source": [
    "from sklearn.ensemble import RandomForestRegressor\n",
    "rfc = RandomForestRegressor(n_estimators=110)\n",
    "X_train_rfc, X_test_rfc, y_train_rfc, y_test_rfc = train_test_split(X, y, test_size=0.3, random_state=0)\n",
    "rfc.fit(X_train_rfc,y_train_rfc)\n",
    "\n"
   ]
  },
  {
   "cell_type": "code",
   "execution_count": 90,
   "id": "65f31e29",
   "metadata": {},
   "outputs": [
    {
     "data": {
      "text/plain": [
       "Text(0.5, 0, 'Feature Importance')"
      ]
     },
     "execution_count": 90,
     "metadata": {},
     "output_type": "execute_result"
    },
    {
     "data": {
      "image/png": "[encoded data removed]",
      "text/plain": [
       "<Figure size 432x288 with 1 Axes>"
      ]
     },
     "metadata": {
      "needs_background": "light"
     },
     "output_type": "display_data"
    }
   ],
   "source": [
    "sort = rfc.feature_importances_.argsort()\n",
    "plt.barh(X.columns[sort], rfc.feature_importances_[sort])\n",
    "plt.xlabel(\"Feature Importance\")"
   ]
  },
  {
   "cell_type": "code",
   "execution_count": 91,
   "id": "0b7fa5c2",
   "metadata": {},
   "outputs": [
    {
     "data": {
      "text/plain": [
       "total_waste_generated                      1.000000\n",
       "Waste_delivered_from_domestic_territory    0.514617\n",
       "electricity_generation_potential           0.351794\n",
       "Total_recovered_materials                  0.351651\n",
       "Wastes_delivered_from_abroad               0.265873\n",
       "Disposed_of_waste                          0.214768\n",
       "Average_waste_generation_per_State         0.124395\n",
       "Year                                      -0.000242\n",
       "waste_treatment_rate                      -0.274746\n",
       "Name: total_waste_generated, dtype: float64"
      ]
     },
     "execution_count": 91,
     "metadata": {},
     "output_type": "execute_result"
    }
   ],
   "source": [
    "corr_matrix = df.corr() \n",
    "corr_matrix[\"total_waste_generated\"].sort_values(ascending=False)"
   ]
  },
  {
   "cell_type": "code",
   "execution_count": 92,
   "id": "81a6697c",
   "metadata": {},
   "outputs": [],
   "source": [
    "y_pred_rfc = rfc.predict(X_test)"
   ]
  },
  {
   "cell_type": "code",
   "execution_count": 93,
   "id": "13f70b41",
   "metadata": {},
   "outputs": [
    {
     "data": {
      "text/plain": [
       "0.116865621463907"
      ]
     },
     "execution_count": 93,
     "metadata": {},
     "output_type": "execute_result"
    }
   ],
   "source": [
    "from sklearn.metrics import r2_score\n",
    "r2_score(y_test_rfc, y_pred_rfc)"
   ]
  },
  {
   "cell_type": "code",
   "execution_count": 94,
   "id": "94b183ac",
   "metadata": {},
   "outputs": [
    {
     "name": "stdout",
     "output_type": "stream",
     "text": [
      "0.97510635385302\n"
     ]
    }
   ],
   "source": [
    "mse = np.mean((y_pred_rfc - y_test_rfc)**2)\n",
    "print(mse)"
   ]
  },
  {
   "cell_type": "code",
   "execution_count": null,
   "id": "a8ec8b5a",
   "metadata": {},
   "outputs": [],
   "source": []
  },
  {
   "cell_type": "code",
   "execution_count": 95,
   "id": "d659b7ee",
   "metadata": {},
   "outputs": [
    {
     "name": "stdout",
     "output_type": "stream",
     "text": [
      "<class 'pandas.core.frame.DataFrame'>\n",
      "Int64Index: 491 entries, 1 to 769\n",
      "Data columns (total 14 columns):\n",
      " #   Column                                   Non-Null Count  Dtype  \n",
      "---  ------                                   --------------  -----  \n",
      " 0   ID                                       491 non-null    object \n",
      " 1   Type_of_plant                            491 non-null    object \n",
      " 2   Waste_delivered_from_domestic_territory  491 non-null    float64\n",
      " 3   Wastes_delivered_from_abroad             491 non-null    float64\n",
      " 4   Disposed_of_waste                        491 non-null    float64\n",
      " 5   Year                                     491 non-null    int32  \n",
      " 6   State                                    491 non-null    object \n",
      " 7   Categories                               491 non-null    object \n",
      " 8   Waste_Type                               491 non-null    object \n",
      " 9   total_waste_generated                    491 non-null    float64\n",
      " 10  waste_treatment_rate                     491 non-null    float64\n",
      " 11  Total_recovered_materials                491 non-null    float64\n",
      " 12  electricity_generation_potential         491 non-null    float64\n",
      " 13  Average_waste_generation_per_State       491 non-null    float64\n",
      "dtypes: float64(8), int32(1), object(5)\n",
      "memory usage: 55.6+ KB\n"
     ]
    }
   ],
   "source": [
    "df.info()"
   ]
  },
  {
   "cell_type": "code",
   "execution_count": 96,
   "id": "c51d0239",
   "metadata": {},
   "outputs": [
    {
     "data": {
      "text/plain": [
       "array([2017, 2018, 2019, 2020])"
      ]
     },
     "execution_count": 96,
     "metadata": {},
     "output_type": "execute_result"
    }
   ],
   "source": [
    "df[\"Year\"].unique()"
   ]
  },
  {
   "cell_type": "code",
   "execution_count": 97,
   "id": "af26026f",
   "metadata": {},
   "outputs": [
    {
     "data": {
      "text/plain": [
       "array(['Baden-Württemberg', 'Bayern', 'Berlin', 'Brandenburg', 'Bremen',\n",
       "       'Hamburg', 'Hessen', 'Mecklenburg-Vorpommern', 'Niedersachsen',\n",
       "       'Nordrhein-Westfalen', 'Rheinland-Pfalz', 'Saarland', 'Sachsen',\n",
       "       'Sachsen-Anhalt', 'Schleswig-Holstein', 'Thuringen'], dtype=object)"
      ]
     },
     "execution_count": 97,
     "metadata": {},
     "output_type": "execute_result"
    }
   ],
   "source": [
    "df[\"State\"].unique()"
   ]
  },
  {
   "cell_type": "code",
   "execution_count": null,
   "id": "2dd1df90",
   "metadata": {},
   "outputs": [],
   "source": []
  }
 ],
 "metadata": {
  "kernelspec": {
   "display_name": "Python 3",
   "language": "python",
   "name": "python3"
  },
  "language_info": {
   "codemirror_mode": {
    "name": "ipython",
    "version": 3
   },
   "file_extension": ".py",
   "mimetype": "text/x-python",
   "name": "python",
   "nbconvert_exporter": "python",
   "pygments_lexer": "ipython3",
   "version": "3.7.4"
  }
 },
 "nbformat": 4,
 "nbformat_minor": 5
}
